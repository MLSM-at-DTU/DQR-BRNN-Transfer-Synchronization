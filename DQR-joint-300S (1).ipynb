{
 "cells": [
  {
   "cell_type": "markdown",
   "metadata": {
    "colab_type": "text",
    "id": "UIgs75GktB8G"
   },
   "source": [
    "# Imports"
   ]
  },
  {
   "cell_type": "code",
   "execution_count": 2,
   "metadata": {
    "colab": {
     "base_uri": "https://localhost:8080/",
     "height": 173
    },
    "colab_type": "code",
    "id": "CJVCWfrMtDbL",
    "outputId": "c567c68f-0a6a-47f3-faed-e2b40426f770"
   },
   "outputs": [
    {
     "name": "stdout",
     "output_type": "stream",
     "text": [
      "Found GPU at: /device:GPU:0\n",
      "Tensorflow Version .2.3.1\n",
      "Numpy Version .1.16.2\n"
     ]
    }
   ],
   "source": [
    "import pandas as pd\n",
    "import numpy as np\n",
    "import matplotlib.pyplot as plt\n",
    "from datetime import datetime\n",
    "import tensorflow.keras.backend as K\n",
    "from tensorflow.keras.callbacks import EarlyStopping, ModelCheckpoint\n",
    "from tensorflow.keras.models import Sequential\n",
    "from tensorflow.keras.layers import BatchNormalization, ConvLSTM2D, Flatten, RepeatVector, Reshape, TimeDistributed, Lambda, Dense, Dropout\n",
    "from scipy import stats \n",
    "from scipy.optimize import curve_fit \n",
    "from scipy.stats import norm, lognorm\n",
    "import tensorflow as tf\n",
    "from pathlib import Path\n",
    "\n",
    "from load import load_links\n",
    "from DQR.models import tilted_loss, convLSTM\n",
    "\n",
    "device_name = tf.test.gpu_device_name()\n",
    "if device_name != '/device:GPU:0':\n",
    "    print('GPU device not found')\n",
    "else:\n",
    "    print('Found GPU at: {}'.format(device_name))\n",
    "print(\"Tensorflow Version .{}\".format(tf.__version__))\n",
    "print(\"Numpy Version .{}\".format(np.__version__))"
   ]
  },
  {
   "cell_type": "markdown",
   "metadata": {
    "colab_type": "text",
    "id": "eEWMQ8y0tEqg"
   },
   "source": [
    "# Data Preprocessing"
   ]
  },
  {
   "cell_type": "code",
   "execution_count": 3,
   "metadata": {},
   "outputs": [],
   "source": [
    "def roll(ix, ts, lags, preds):\n",
    "    X = np.stack([np.roll(ts, i, axis=0) for i in range(lags, 0, -1)], axis=1)[lags:-preds,]\n",
    "    Y = np.stack([np.roll(ts, -i, axis=0) for i in range(0, preds, 1)], axis=1)[lags:-preds,]\n",
    "    Y_ix = ix[lags:-preds]\n",
    "    return X, Y, Y_ix\n",
    "\n",
    "def load_data(line, freq, lags, preds):\n",
    "    train = pd.read_csv(f'Data/{line}_{freq}_train_norm.csv.gz', index_col=0, compression='gzip', parse_dates=True)\n",
    "    train_counts = pd.read_csv(f'Data/{line}_{freq}_train_sample_count.csv.gz', index_col=0, compression='gzip', parse_dates=True)\n",
    "    X_train, Y_train, Y_train_ix = roll(train.index, train.values, lags, preds)\n",
    "    \n",
    "    val = pd.read_csv(f'Data/{line}_{freq}_val_norm.csv.gz', index_col=0, compression='gzip', parse_dates=True)\n",
    "    val_counts = pd.read_csv(f'Data/{line}_{freq}_val_sample_count.csv.gz', index_col=0, compression='gzip', parse_dates=True)\n",
    "    X_val, Y_val, Y_val_ix = roll(val.index, val.values, lags, preds)\n",
    "\n",
    "    test = pd.read_csv(f'Data/{line}_{freq}_test_norm.csv.gz', index_col=0, compression='gzip', parse_dates=True)\n",
    "    test_counts = pd.read_csv(f'Data/{line}_{freq}_test_sample_count.csv.gz', index_col=0, compression='gzip', parse_dates=True)\n",
    "    test_mean = pd.read_csv(f'Data/{line}_{freq}_test_mean.csv.gz', index_col=0, compression='gzip', parse_dates=True)\n",
    "    test_std = pd.read_csv(f'Data/{line}_{freq}_test_std.csv.gz', index_col=0, compression='gzip', parse_dates=True)\n",
    "    X_test, Y_test, Y_test_ix = roll(test.index, test.values, lags, preds)\n",
    "    _, mu_test, _ = roll(test_mean.index, test_mean.values, lags, preds)\n",
    "    _, sigma_test, _ = roll(test_std.index, test_std.values, lags, preds)\n",
    "        \n",
    "    return (X_train, Y_train), (X_val, Y_val), (X_test, Y_test, Y_test_ix, mu_test, sigma_test)"
   ]
  },
  {
   "cell_type": "code",
   "execution_count": 4,
   "metadata": {
    "colab": {},
    "colab_type": "code",
    "id": "WmmJZeJQt9y9"
   },
   "outputs": [],
   "source": [
    "line = '300S'\n",
    "freq = '15min'\n",
    "lags = 32\n",
    "preds = 3\n",
    "\n",
    "\n",
    "data_train, data_val, data_test = load_data(line, freq, lags, preds)\n",
    "\n",
    "# Unpack tensors\n",
    "(X_train, y_train) = data_train\n",
    "(X_val, y_val) = data_val\n",
    "(X_test, y_test, y_ix_test, y_mean_test, y_std_test) = data_test\n",
    "\n",
    "X_train = X_train[..., np.newaxis, np.newaxis]\n",
    "y_train = y_train[..., np.newaxis, np.newaxis]\n",
    "X_val = X_val[..., np.newaxis, np.newaxis]\n",
    "y_val = y_val[..., np.newaxis, np.newaxis]\n",
    "X_test = X_test[..., np.newaxis, np.newaxis]\n",
    "y_test = y_test[..., np.newaxis, np.newaxis]"
   ]
  },
  {
   "cell_type": "code",
   "execution_count": 5,
   "metadata": {},
   "outputs": [
    {
     "data": {
      "text/plain": [
       "(8701, 32, 39, 1, 1)"
      ]
     },
     "execution_count": 5,
     "metadata": {},
     "output_type": "execute_result"
    }
   ],
   "source": [
    "X_train.shape"
   ]
  },
  {
   "cell_type": "code",
   "execution_count": 6,
   "metadata": {},
   "outputs": [
    {
     "data": {
      "text/plain": [
       "(1309, 32, 39, 1, 1)"
      ]
     },
     "execution_count": 6,
     "metadata": {},
     "output_type": "execute_result"
    }
   ],
   "source": [
    "X_val.shape"
   ]
  },
  {
   "cell_type": "code",
   "execution_count": 7,
   "metadata": {
    "colab": {},
    "colab_type": "code",
    "id": "CYQ321P8E665"
   },
   "outputs": [],
   "source": [
    "quantiles = np.sort([0.025, 0.975, 0.05, 0.95, 0.10, 0.90, 0.20, 0.8, 0.4, 0.6])\n",
    "y_traink = np.zeros((y_train.shape[0], y_train.shape[1], y_train.shape[2], 1, len(quantiles)+1))\n",
    "y_valk  = np.zeros((y_val.shape[0], y_train.shape[1], y_train.shape[2], 1, len(quantiles)+1))\n",
    "for i in range(len(quantiles)+1):\n",
    "    y_traink[:,:,:,:,i] = y_train[:,:,:,:,0]\n",
    "    y_valk[:,:,:,:,i] = y_val[:,:,:,:,0]"
   ]
  },
  {
   "cell_type": "code",
   "execution_count": 8,
   "metadata": {},
   "outputs": [
    {
     "data": {
      "text/plain": [
       "array([0.025, 0.05 , 0.1  , 0.2  , 0.4  , 0.6  , 0.8  , 0.9  , 0.95 ,\n",
       "       0.975])"
      ]
     },
     "execution_count": 8,
     "metadata": {},
     "output_type": "execute_result"
    }
   ],
   "source": [
    "quantiles"
   ]
  },
  {
   "cell_type": "markdown",
   "metadata": {
    "colab_type": "text",
    "id": "QC4IBOREtLAa"
   },
   "source": [
    "# Joint Model (Encoder-Decoder ConvLSTM)"
   ]
  },
  {
   "cell_type": "code",
   "execution_count": 9,
   "metadata": {
    "colab": {},
    "colab_type": "code",
    "id": "aGCWTNA71_5U"
   },
   "outputs": [],
   "source": [
    "def joint_convLstm(num_filters, kernel_length, input_timesteps, num_links, output_timesteps, quantiles, prob, loss, opt):\n",
    "    model = Sequential()\n",
    "    model.add(BatchNormalization(name = 'batch_norm_0', input_shape = (input_timesteps, num_links, 1, 1)))\n",
    "    model.add(ConvLSTM2D(name ='conv_lstm_1',\n",
    "                         filters = num_filters, kernel_size = (kernel_length, 1), \n",
    "                         padding='same',\n",
    "                         return_sequences=False))\n",
    "\n",
    "    model.add(Dropout(prob, name = 'dropout_1'))\n",
    "    model.add(BatchNormalization(name = 'batch_norm_1'))\n",
    "\n",
    "    model.add(Flatten())\n",
    "    model.add(RepeatVector(output_timesteps))\n",
    "    model.add(Reshape((output_timesteps, num_links, 1, num_filters)))\n",
    "\n",
    "    model.add(ConvLSTM2D(name ='conv_lstm_2',filters = num_filters, kernel_size = (kernel_length, 1), padding='same',return_sequences = True))\n",
    "    model.add(Dropout(prob, name = 'dropout_2'))\n",
    "\n",
    "    model.add(TimeDistributed(Dense(units = len(quantiles) + 1, name = 'dense_1')))\n",
    "    model.compile(loss = loss, optimizer = opt)\n",
    "    return model"
   ]
  },
  {
   "cell_type": "markdown",
   "metadata": {
    "colab_type": "text",
    "id": "lbaB6gJHtVdV"
   },
   "source": [
    "# Training"
   ]
  },
  {
   "cell_type": "code",
   "execution_count": 10,
   "metadata": {},
   "outputs": [],
   "source": [
    "# Tilted loss for both mean and quantiles\n",
    "def joint_tilted_loss(quantiles, y, f):\n",
    "    loss = K.mean(K.square(y[:,:,:,0,0]-f[:,:,:,0,0]), axis = -1)\n",
    "    for k in range(len(quantiles)):\n",
    "        q = quantiles[k]\n",
    "        e = (y[:,:,:,0,k+1]-f[:,:,:,0,k+1])\n",
    "        loss += K.mean(K.maximum(q*e, (q-1)*e))\n",
    "    return loss\n"
   ]
  },
  {
   "cell_type": "code",
   "execution_count": 12,
   "metadata": {
    "colab": {
     "base_uri": "https://localhost:8080/",
     "height": 153
    },
    "colab_type": "code",
    "id": "_IsTBrgFz4P-",
    "outputId": "bff78231-3bf3-49c8-cf0e-f6be42839ff2",
    "scrolled": true
   },
   "outputs": [
    {
     "name": "stdout",
     "output_type": "stream",
     "text": [
      "Epoch 1/200\n",
      "175/175 [==============================] - 25s 140ms/step - loss: 3.9176 - val_loss: 3.8919\n",
      "Epoch 2/200\n",
      "175/175 [==============================] - 24s 138ms/step - loss: 3.5613 - val_loss: 3.6646\n",
      "Epoch 3/200\n",
      "175/175 [==============================] - 24s 137ms/step - loss: 3.3578 - val_loss: 3.2756\n",
      "Epoch 4/200\n",
      "175/175 [==============================] - 24s 137ms/step - loss: 3.2138 - val_loss: 3.0043\n",
      "Epoch 5/200\n",
      "175/175 [==============================] - 24s 137ms/step - loss: 3.1095 - val_loss: 2.8864\n",
      "Epoch 6/200\n",
      "175/175 [==============================] - 24s 137ms/step - loss: 3.0316 - val_loss: 2.8226\n",
      "Epoch 7/200\n",
      "175/175 [==============================] - 24s 137ms/step - loss: 2.9724 - val_loss: 2.7780\n",
      "Epoch 8/200\n",
      "175/175 [==============================] - 24s 137ms/step - loss: 2.9261 - val_loss: 2.7425\n",
      "Epoch 9/200\n",
      "175/175 [==============================] - 24s 138ms/step - loss: 2.8895 - val_loss: 2.7147\n",
      "Epoch 10/200\n",
      "175/175 [==============================] - 24s 137ms/step - loss: 2.8591 - val_loss: 2.6915\n",
      "Epoch 11/200\n",
      "175/175 [==============================] - 24s 137ms/step - loss: 2.8332 - val_loss: 2.6729\n",
      "Epoch 12/200\n",
      "175/175 [==============================] - 24s 137ms/step - loss: 2.8117 - val_loss: 2.6550\n",
      "Epoch 13/200\n",
      "175/175 [==============================] - 24s 137ms/step - loss: 2.7934 - val_loss: 2.6426\n",
      "Epoch 14/200\n",
      "175/175 [==============================] - 24s 138ms/step - loss: 2.7770 - val_loss: 2.6294\n",
      "Epoch 15/200\n",
      "175/175 [==============================] - 24s 138ms/step - loss: 2.7617 - val_loss: 2.6182\n",
      "Epoch 16/200\n",
      "175/175 [==============================] - 24s 138ms/step - loss: 2.7488 - val_loss: 2.6074\n",
      "Epoch 17/200\n",
      "175/175 [==============================] - 24s 137ms/step - loss: 2.7370 - val_loss: 2.5977\n",
      "Epoch 18/200\n",
      "175/175 [==============================] - 24s 138ms/step - loss: 2.7261 - val_loss: 2.5895\n",
      "Epoch 19/200\n",
      "175/175 [==============================] - 24s 137ms/step - loss: 2.7164 - val_loss: 2.5820\n",
      "Epoch 20/200\n",
      "175/175 [==============================] - 24s 137ms/step - loss: 2.7071 - val_loss: 2.5742\n",
      "Epoch 21/200\n",
      "175/175 [==============================] - 24s 138ms/step - loss: 2.6986 - val_loss: 2.5679\n",
      "Epoch 22/200\n",
      "175/175 [==============================] - 24s 138ms/step - loss: 2.6912 - val_loss: 2.5598\n",
      "Epoch 23/200\n",
      "175/175 [==============================] - 24s 137ms/step - loss: 2.6839 - val_loss: 2.5560\n",
      "Epoch 24/200\n",
      "175/175 [==============================] - 24s 137ms/step - loss: 2.6778 - val_loss: 2.5499\n",
      "Epoch 25/200\n",
      "175/175 [==============================] - 24s 138ms/step - loss: 2.6714 - val_loss: 2.5442\n",
      "Epoch 26/200\n",
      "175/175 [==============================] - 24s 138ms/step - loss: 2.6654 - val_loss: 2.5397\n",
      "Epoch 27/200\n",
      "175/175 [==============================] - 24s 137ms/step - loss: 2.6604 - val_loss: 2.5356\n",
      "Epoch 28/200\n",
      "175/175 [==============================] - 24s 137ms/step - loss: 2.6548 - val_loss: 2.5307\n",
      "Epoch 29/200\n",
      "175/175 [==============================] - 24s 137ms/step - loss: 2.6498 - val_loss: 2.5276\n",
      "Epoch 30/200\n",
      "175/175 [==============================] - 24s 137ms/step - loss: 2.6462 - val_loss: 2.5234\n",
      "Epoch 31/200\n",
      "175/175 [==============================] - 24s 137ms/step - loss: 2.6413 - val_loss: 2.5185\n",
      "Epoch 32/200\n",
      "175/175 [==============================] - 24s 138ms/step - loss: 2.6375 - val_loss: 2.5157\n",
      "Epoch 33/200\n",
      "175/175 [==============================] - 24s 137ms/step - loss: 2.6332 - val_loss: 2.5123\n",
      "Epoch 34/200\n",
      "175/175 [==============================] - 24s 138ms/step - loss: 2.6302 - val_loss: 2.5084\n",
      "Epoch 35/200\n",
      "175/175 [==============================] - 24s 138ms/step - loss: 2.6257 - val_loss: 2.5053\n",
      "Epoch 36/200\n",
      "175/175 [==============================] - 24s 137ms/step - loss: 2.6231 - val_loss: 2.5023\n",
      "Epoch 37/200\n",
      "175/175 [==============================] - 24s 138ms/step - loss: 2.6192 - val_loss: 2.4990\n",
      "Epoch 38/200\n",
      "175/175 [==============================] - 24s 138ms/step - loss: 2.6168 - val_loss: 2.4956\n",
      "Epoch 39/200\n",
      "175/175 [==============================] - 24s 138ms/step - loss: 2.6137 - val_loss: 2.4933\n",
      "Epoch 40/200\n",
      "175/175 [==============================] - 24s 137ms/step - loss: 2.6110 - val_loss: 2.4911\n",
      "Epoch 41/200\n",
      "175/175 [==============================] - 24s 137ms/step - loss: 2.6079 - val_loss: 2.4870\n",
      "Epoch 42/200\n",
      "175/175 [==============================] - 24s 138ms/step - loss: 2.6055 - val_loss: 2.4855\n",
      "Epoch 43/200\n",
      "175/175 [==============================] - 24s 138ms/step - loss: 2.6030 - val_loss: 2.4829\n",
      "Epoch 44/200\n",
      "175/175 [==============================] - 24s 137ms/step - loss: 2.6000 - val_loss: 2.4796\n",
      "Epoch 45/200\n",
      "175/175 [==============================] - 24s 137ms/step - loss: 2.5974 - val_loss: 2.4775\n",
      "Epoch 46/200\n",
      "175/175 [==============================] - 24s 137ms/step - loss: 2.5949 - val_loss: 2.4750\n",
      "Epoch 47/200\n",
      "175/175 [==============================] - 24s 137ms/step - loss: 2.5933 - val_loss: 2.4732\n",
      "Epoch 48/200\n",
      "175/175 [==============================] - 24s 138ms/step - loss: 2.5899 - val_loss: 2.4707\n",
      "Epoch 49/200\n",
      "175/175 [==============================] - 24s 137ms/step - loss: 2.5880 - val_loss: 2.4678\n",
      "Epoch 50/200\n",
      "175/175 [==============================] - 24s 137ms/step - loss: 2.5854 - val_loss: 2.4650\n",
      "Epoch 51/200\n",
      "175/175 [==============================] - 24s 138ms/step - loss: 2.5834 - val_loss: 2.4627\n",
      "Epoch 52/200\n",
      "175/175 [==============================] - 24s 137ms/step - loss: 2.5811 - val_loss: 2.4603\n",
      "Epoch 53/200\n",
      "175/175 [==============================] - 24s 137ms/step - loss: 2.5788 - val_loss: 2.4583\n",
      "Epoch 54/200\n",
      "175/175 [==============================] - 24s 138ms/step - loss: 2.5770 - val_loss: 2.4555\n",
      "Epoch 55/200\n",
      "175/175 [==============================] - 24s 138ms/step - loss: 2.5743 - val_loss: 2.4535\n",
      "Epoch 56/200\n",
      "175/175 [==============================] - 24s 137ms/step - loss: 2.5726 - val_loss: 2.4510\n",
      "Epoch 57/200\n",
      "175/175 [==============================] - 24s 138ms/step - loss: 2.5709 - val_loss: 2.4485\n",
      "Epoch 58/200\n",
      "175/175 [==============================] - 24s 137ms/step - loss: 2.5690 - val_loss: 2.4463\n",
      "Epoch 59/200\n",
      "175/175 [==============================] - 24s 137ms/step - loss: 2.5674 - val_loss: 2.4449\n",
      "Epoch 60/200\n",
      "175/175 [==============================] - 24s 137ms/step - loss: 2.5650 - val_loss: 2.4427\n",
      "Epoch 61/200\n",
      "175/175 [==============================] - 24s 138ms/step - loss: 2.5634 - val_loss: 2.4403\n",
      "Epoch 62/200\n",
      "175/175 [==============================] - 24s 136ms/step - loss: 2.5610 - val_loss: 2.4388\n",
      "Epoch 63/200\n",
      "175/175 [==============================] - 24s 137ms/step - loss: 2.5598 - val_loss: 2.4365\n",
      "Epoch 64/200\n",
      "175/175 [==============================] - 24s 137ms/step - loss: 2.5590 - val_loss: 2.4354\n",
      "Epoch 65/200\n",
      "175/175 [==============================] - 24s 137ms/step - loss: 2.5571 - val_loss: 2.4350\n",
      "Epoch 66/200\n",
      "175/175 [==============================] - 24s 137ms/step - loss: 2.5562 - val_loss: 2.4326\n",
      "Epoch 67/200\n",
      "175/175 [==============================] - 24s 138ms/step - loss: 2.5547 - val_loss: 2.4308\n",
      "Epoch 68/200\n",
      "175/175 [==============================] - 24s 137ms/step - loss: 2.5528 - val_loss: 2.4299\n",
      "Epoch 69/200\n",
      "175/175 [==============================] - 24s 137ms/step - loss: 2.5517 - val_loss: 2.4284\n",
      "Epoch 70/200\n",
      "175/175 [==============================] - 24s 137ms/step - loss: 2.5509 - val_loss: 2.4274\n",
      "Epoch 71/200\n",
      "175/175 [==============================] - 24s 137ms/step - loss: 2.5497 - val_loss: 2.4265\n",
      "Epoch 72/200\n",
      "175/175 [==============================] - 24s 138ms/step - loss: 2.5484 - val_loss: 2.4244\n",
      "Epoch 73/200\n",
      "175/175 [==============================] - 24s 137ms/step - loss: 2.5473 - val_loss: 2.4235\n",
      "Epoch 74/200\n",
      "175/175 [==============================] - 24s 138ms/step - loss: 2.5460 - val_loss: 2.4231\n",
      "Epoch 75/200\n",
      "175/175 [==============================] - 24s 138ms/step - loss: 2.5456 - val_loss: 2.4217\n",
      "Epoch 76/200\n",
      "175/175 [==============================] - 24s 137ms/step - loss: 2.5437 - val_loss: 2.4203\n",
      "Epoch 77/200\n",
      "175/175 [==============================] - 24s 137ms/step - loss: 2.5428 - val_loss: 2.4191\n",
      "Epoch 78/200\n",
      "175/175 [==============================] - 24s 137ms/step - loss: 2.5429 - val_loss: 2.4188\n",
      "Epoch 79/200\n",
      "175/175 [==============================] - 24s 137ms/step - loss: 2.5410 - val_loss: 2.4185\n",
      "Epoch 80/200\n",
      "175/175 [==============================] - 24s 137ms/step - loss: 2.5408 - val_loss: 2.4166\n",
      "Epoch 81/200\n",
      "175/175 [==============================] - 24s 138ms/step - loss: 2.5400 - val_loss: 2.4158\n",
      "Epoch 82/200\n",
      "175/175 [==============================] - 24s 137ms/step - loss: 2.5391 - val_loss: 2.4144\n",
      "Epoch 83/200\n",
      "175/175 [==============================] - 24s 137ms/step - loss: 2.5379 - val_loss: 2.4144\n",
      "Epoch 84/200\n",
      "175/175 [==============================] - 24s 138ms/step - loss: 2.5375 - val_loss: 2.4127\n",
      "Epoch 85/200\n",
      "175/175 [==============================] - 24s 138ms/step - loss: 2.5365 - val_loss: 2.4117\n",
      "Epoch 86/200\n",
      "175/175 [==============================] - 24s 137ms/step - loss: 2.5363 - val_loss: 2.4116\n",
      "Epoch 87/200\n",
      "175/175 [==============================] - 24s 138ms/step - loss: 2.5352 - val_loss: 2.4108\n",
      "Epoch 88/200\n",
      "175/175 [==============================] - 24s 138ms/step - loss: 2.5341 - val_loss: 2.4107\n",
      "Epoch 89/200\n",
      "175/175 [==============================] - 24s 137ms/step - loss: 2.5335 - val_loss: 2.4090\n",
      "Epoch 90/200\n",
      "175/175 [==============================] - 24s 138ms/step - loss: 2.5328 - val_loss: 2.4086\n",
      "Epoch 91/200\n",
      "175/175 [==============================] - 24s 137ms/step - loss: 2.5327 - val_loss: 2.4077\n",
      "Epoch 92/200\n",
      "175/175 [==============================] - 24s 138ms/step - loss: 2.5309 - val_loss: 2.4074\n",
      "Epoch 93/200\n",
      "175/175 [==============================] - 24s 138ms/step - loss: 2.5304 - val_loss: 2.4064\n",
      "Epoch 94/200\n",
      "175/175 [==============================] - 24s 137ms/step - loss: 2.5296 - val_loss: 2.4055\n",
      "Epoch 95/200\n",
      "175/175 [==============================] - 24s 138ms/step - loss: 2.5288 - val_loss: 2.4048\n",
      "Epoch 96/200\n",
      "175/175 [==============================] - 24s 138ms/step - loss: 2.5281 - val_loss: 2.4039\n",
      "Epoch 97/200\n",
      "175/175 [==============================] - 24s 138ms/step - loss: 2.5276 - val_loss: 2.4033\n",
      "Epoch 98/200\n",
      "175/175 [==============================] - 24s 138ms/step - loss: 2.5264 - val_loss: 2.4023\n",
      "Epoch 99/200\n",
      "175/175 [==============================] - 24s 138ms/step - loss: 2.5265 - val_loss: 2.4010\n",
      "Epoch 100/200\n",
      "175/175 [==============================] - 24s 137ms/step - loss: 2.5256 - val_loss: 2.4015\n",
      "Epoch 101/200\n",
      "175/175 [==============================] - 24s 138ms/step - loss: 2.5252 - val_loss: 2.4008\n",
      "Epoch 102/200\n",
      "175/175 [==============================] - 24s 137ms/step - loss: 2.5242 - val_loss: 2.3996\n",
      "Epoch 103/200\n",
      "175/175 [==============================] - 24s 137ms/step - loss: 2.5242 - val_loss: 2.3996\n",
      "Epoch 104/200\n",
      "175/175 [==============================] - 24s 137ms/step - loss: 2.5233 - val_loss: 2.3997\n",
      "Epoch 00104: early stopping\n"
     ]
    }
   ],
   "source": [
    "# Best parameters [79, 1, 0.10521284879519917]\n",
    "# Validation Loss 2.3823776245117188\n",
    "\n",
    "num_filters = 79\n",
    "kernel_length = 1\n",
    "prob = 0.10521284879519917\n",
    "num_links = X_train.shape[2]\n",
    "lags = X_train.shape[1]\n",
    "opt = tf.keras.optimizers.Adagrad(learning_rate=1e-3) #1e-3\n",
    "loss = lambda y, f: joint_tilted_loss(quantiles, y, f)\n",
    "net = joint_convLstm(num_filters, kernel_length, lags, num_links, preds, quantiles, prob, loss, opt)\n",
    "mc = tf.keras.callbacks.ModelCheckpoint( filepath=\"Model Checkpoint/joint\",\n",
    "                                        save_weights_only=True,\n",
    "                                        monitor='val_loss',\n",
    "                                        mode='min',\n",
    "                                        save_best_only=True)\n",
    "es = EarlyStopping(monitor='val_loss', mode='min', verbose=1, patience=2)\n",
    "net.fit(X_train, y_traink, validation_data=(X_val, y_valk), batch_size=50, callbacks=[es, mc], epochs=200)\n",
    "net.load_weights(\"Model Checkpoint/joint\")\n",
    "y_pred = net.predict(X_test)\n",
    "## Sort only the quantiles\n",
    "y_pred[:,:,:,:,1:] = np.sort(y_pred[:,:,:,:,1:], axis=4)"
   ]
  },
  {
   "cell_type": "code",
   "execution_count": 14,
   "metadata": {},
   "outputs": [],
   "source": [
    "np.save('DQR/y_test_pred_joint_300s.npy', y_pred)\n",
    "np.save('DQR/y_test_300s.npy', y_test)\n",
    "np.save('DQR/y_test_mean_300s.npy', y_mean_test)\n",
    "np.save('DQR/y_test_std_300s.npy', y_std_test)"
   ]
  },
  {
   "cell_type": "code",
   "execution_count": 15,
   "metadata": {
    "colab": {
     "base_uri": "https://localhost:8080/",
     "height": 282
    },
    "colab_type": "code",
    "id": "NTlKyyKHcswk",
    "outputId": "a47fa6d6-7302-47f4-8d21-1162d68d6750"
   },
   "outputs": [
    {
     "data": {
      "text/plain": [
       "[<matplotlib.lines.Line2D at 0x7f72dd05ecf8>]"
      ]
     },
     "execution_count": 15,
     "metadata": {},
     "output_type": "execute_result"
    },
    {
     "data": {
      "image/png": "[encoded data removed]",
      "text/plain": [
       "<Figure size 432x288 with 1 Axes>"
      ]
     },
     "metadata": {
      "needs_background": "light"
     },
     "output_type": "display_data"
    }
   ],
   "source": [
    "up_to = 1000\n",
    "plt.plot(y_ix_test[:up_to], np.sum(y_test[:up_to,0,:,0,0]*y_std_test[:up_to,0,:]+y_mean_test[:up_to,0,:], axis=1), 'bo')\n",
    "plt.plot(y_ix_test[:up_to], np.sum(y_pred[:up_to,0,:,0,0]*y_std_test[:up_to,0,:]+y_mean_test[:up_to,0,:], axis=1), 'r')"
   ]
  },
  {
   "cell_type": "code",
   "execution_count": 16,
   "metadata": {},
   "outputs": [
    {
     "ename": "NameError",
     "evalue": "name 't' is not defined",
     "output_type": "error",
     "traceback": [
      "\u001b[0;31m---------------------------------------------------------------------------\u001b[0m",
      "\u001b[0;31mNameError\u001b[0m                                 Traceback (most recent call last)",
      "\u001b[0;32m<ipython-input-16-97f733fafedf>\u001b[0m in \u001b[0;36m<module>\u001b[0;34m\u001b[0m\n\u001b[0;32m----> 1\u001b[0;31m \u001b[0my_pred\u001b[0m\u001b[0;34m[\u001b[0m\u001b[0mt\u001b[0m\u001b[0;34m,\u001b[0m\u001b[0;36m0\u001b[0m\u001b[0;34m,\u001b[0m\u001b[0mln\u001b[0m\u001b[0;34m,\u001b[0m\u001b[0;36m0\u001b[0m\u001b[0;34m,\u001b[0m\u001b[0;36m1\u001b[0m\u001b[0;34m:\u001b[0m\u001b[0;34m]\u001b[0m\u001b[0;34m.\u001b[0m\u001b[0mastype\u001b[0m\u001b[0;34m(\u001b[0m\u001b[0mfloat\u001b[0m\u001b[0;34m)\u001b[0m\u001b[0;34m\u001b[0m\u001b[0;34m\u001b[0m\u001b[0m\n\u001b[0m",
      "\u001b[0;31mNameError\u001b[0m: name 't' is not defined"
     ]
    }
   ],
   "source": [
    "y_pred[t,0,ln,0,1:].astype(float)"
   ]
  },
  {
   "cell_type": "markdown",
   "metadata": {
    "colab_type": "text",
    "id": "BFLwKOhBtYV2"
   },
   "source": [
    "# Quantile Sampling (Example)"
   ]
  },
  {
   "cell_type": "code",
   "execution_count": 17,
   "metadata": {
    "colab": {
     "base_uri": "https://localhost:8080/",
     "height": 296
    },
    "colab_type": "code",
    "id": "pcGCqD48E4NW",
    "outputId": "e95114f8-dca7-4660-aa3c-2d1afaa0d787",
    "scrolled": true
   },
   "outputs": [
    {
     "name": "stdout",
     "output_type": "stream",
     "text": [
      "-0.09553438620068691 0.5845491505817486\n"
     ]
    },
    {
     "data": {
      "text/plain": [
       "[<matplotlib.lines.Line2D at 0x7f72dcf43128>]"
      ]
     },
     "execution_count": 17,
     "metadata": {},
     "output_type": "execute_result"
    },
    {
     "data": {
      "image/png": "[encoded data removed]",
      "text/plain": [
       "<Figure size 432x288 with 1 Axes>"
      ]
     },
     "metadata": {
      "needs_background": "light"
     },
     "output_type": "display_data"
    }
   ],
   "source": [
    "S=500\n",
    "t = 60\n",
    "ln = 12\n",
    "(mu, sigma), _ = curve_fit(lambda x, mu, sigma: norm.cdf(x, mu, sigma), y_pred[t,0,ln,0,1:].astype(float), quantiles)\n",
    "print(mu, sigma)\n",
    "x = np.linspace(y_pred[t,0,ln,0,1] - 0.3, y_pred[t,0,ln,0,-1] + 0.3, 1000)\n",
    "plt.plot(y_pred[t,0,ln,0,1:], quantiles, 'bo')\n",
    "plt.xlabel('Value (Standardized)')\n",
    "plt.ylabel('Quantile')\n",
    "plt.plot(x, norm.cdf(x, mu, sigma), 'r')"
   ]
  },
  {
   "cell_type": "code",
   "execution_count": 18,
   "metadata": {},
   "outputs": [
    {
     "data": {
      "text/plain": [
       "(array([  1.,   2.,  33.,  67., 126., 138.,  78.,  42.,  12.,   1.]),\n",
       " array([-2.23052943, -1.82682926, -1.4231291 , -1.01942894, -0.61572877,\n",
       "        -0.21202861,  0.19167155,  0.59537172,  0.99907188,  1.40277204,\n",
       "         1.80647221]),\n",
       " <a list of 10 Patch objects>)"
      ]
     },
     "execution_count": 18,
     "metadata": {},
     "output_type": "execute_result"
    },
    {
     "data": {
      "image/png": "[encoded data removed]",
      "text/plain": [
       "<Figure size 432x288 with 1 Axes>"
      ]
     },
     "metadata": {
      "needs_background": "light"
     },
     "output_type": "display_data"
    }
   ],
   "source": [
    "plt.hist(norm.rvs(loc=mu, scale=sigma, size=S))"
   ]
  },
  {
   "cell_type": "code",
   "execution_count": null,
   "metadata": {},
   "outputs": [],
   "source": []
  }
 ],
 "metadata": {
  "accelerator": "GPU",
  "colab": {
   "collapsed_sections": [
    "QC4IBOREtLAa",
    "lbaB6gJHtVdV",
    "BFLwKOhBtYV2"
   ],
   "name": "Movia Models.ipynb",
   "provenance": []
  },
  "kernelspec": {
   "display_name": "Python 3",
   "language": "python",
   "name": "python3"
  },
  "language_info": {
   "codemirror_mode": {
    "name": "ipython",
    "version": 3
   },
   "file_extension": ".py",
   "mimetype": "text/x-python",
   "name": "python",
   "nbconvert_exporter": "python",
   "pygments_lexer": "ipython3",
   "version": "3.6.6"
  }
 },
 "nbformat": 4,
 "nbformat_minor": 2
}
