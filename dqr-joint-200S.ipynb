{
 "cells": [
  {
   "cell_type": "markdown",
   "metadata": {
    "colab_type": "text",
    "id": "UIgs75GktB8G"
   },
   "source": [
    "# Imports"
   ]
  },
  {
   "cell_type": "code",
   "execution_count": 1,
   "metadata": {
    "colab": {
     "base_uri": "https://localhost:8080/",
     "height": 173
    },
    "colab_type": "code",
    "id": "CJVCWfrMtDbL",
    "outputId": "c567c68f-0a6a-47f3-faed-e2b40426f770"
   },
   "outputs": [
    {
     "name": "stdout",
     "output_type": "stream",
     "text": [
      "Found GPU at: /device:GPU:0\n",
      "Tensorflow Version .2.3.1\n",
      "Numpy Version .1.16.2\n"
     ]
    }
   ],
   "source": [
    "import pandas as pd\n",
    "import numpy as np\n",
    "import matplotlib.pyplot as plt\n",
    "from datetime import datetime\n",
    "import tensorflow.keras.backend as K\n",
    "from tensorflow.keras.callbacks import EarlyStopping, ModelCheckpoint\n",
    "from tensorflow.keras.models import Sequential\n",
    "from tensorflow.keras.layers import BatchNormalization, ConvLSTM2D, Flatten, RepeatVector, Reshape, TimeDistributed, Lambda, Dense, Dropout\n",
    "from scipy import stats \n",
    "from scipy.optimize import curve_fit \n",
    "from scipy.stats import norm, lognorm\n",
    "import tensorflow as tf\n",
    "from pathlib import Path\n",
    "\n",
    "from load import load_links\n",
    "from DQR.models import tilted_loss, convLSTM\n",
    "\n",
    "device_name = tf.test.gpu_device_name()\n",
    "if device_name != '/device:GPU:0':\n",
    "    print('GPU device not found')\n",
    "else:\n",
    "    print('Found GPU at: {}'.format(device_name))\n",
    "print(\"Tensorflow Version .{}\".format(tf.__version__))\n",
    "print(\"Numpy Version .{}\".format(np.__version__))"
   ]
  },
  {
   "cell_type": "markdown",
   "metadata": {
    "colab_type": "text",
    "id": "eEWMQ8y0tEqg"
   },
   "source": [
    "# Data Preprocessing"
   ]
  },
  {
   "cell_type": "code",
   "execution_count": 2,
   "metadata": {},
   "outputs": [],
   "source": [
    "def roll(ix, ts, lags, preds):\n",
    "    X = np.stack([np.roll(ts, i, axis=0) for i in range(lags, 0, -1)], axis=1)[lags:-preds,]\n",
    "    Y = np.stack([np.roll(ts, -i, axis=0) for i in range(0, preds, 1)], axis=1)[lags:-preds,]\n",
    "    Y_ix = ix[lags:-preds]\n",
    "    return X, Y, Y_ix\n",
    "\n",
    "def load_data(line, freq, lags, preds):\n",
    "    train = pd.read_csv(f'Data/{line}_{freq}_train_norm.csv.gz', index_col=0, compression='gzip', parse_dates=True)\n",
    "    train_counts = pd.read_csv(f'Data/{line}_{freq}_train_sample_count.csv.gz', index_col=0, compression='gzip', parse_dates=True)\n",
    "    X_train, Y_train, Y_train_ix = roll(train.index, train.values, lags, preds)\n",
    "    \n",
    "    val = pd.read_csv(f'Data/{line}_{freq}_val_norm.csv.gz', index_col=0, compression='gzip', parse_dates=True)\n",
    "    val_counts = pd.read_csv(f'Data/{line}_{freq}_val_sample_count.csv.gz', index_col=0, compression='gzip', parse_dates=True)\n",
    "    X_val, Y_val, Y_val_ix = roll(val.index, val.values, lags, preds)\n",
    "\n",
    "    test = pd.read_csv(f'Data/{line}_{freq}_test_norm.csv.gz', index_col=0, compression='gzip', parse_dates=True)\n",
    "    test_counts = pd.read_csv(f'Data/{line}_{freq}_test_sample_count.csv.gz', index_col=0, compression='gzip', parse_dates=True)\n",
    "    test_mean = pd.read_csv(f'Data/{line}_{freq}_test_mean.csv.gz', index_col=0, compression='gzip', parse_dates=True)\n",
    "    test_std = pd.read_csv(f'Data/{line}_{freq}_test_std.csv.gz', index_col=0, compression='gzip', parse_dates=True)\n",
    "    X_test, Y_test, Y_test_ix = roll(test.index, test.values, lags, preds)\n",
    "    _, mu_test, _ = roll(test_mean.index, test_mean.values, lags, preds)\n",
    "    _, sigma_test, _ = roll(test_std.index, test_std.values, lags, preds)\n",
    "        \n",
    "    return (X_train, Y_train), (X_val, Y_val), (X_test, Y_test, Y_test_ix, mu_test, sigma_test)"
   ]
  },
  {
   "cell_type": "code",
   "execution_count": 3,
   "metadata": {
    "colab": {},
    "colab_type": "code",
    "id": "WmmJZeJQt9y9"
   },
   "outputs": [
    {
     "name": "stdout",
     "output_type": "stream",
     "text": [
      "X_train (8701, 32, 29, 1, 1) y_train (8701, 3, 29, 1, 1)\n",
      "X_val (1309, 32, 29, 1, 1) y_val (1309, 3, 29, 1, 1)\n",
      "X_test (1309, 32, 29, 1, 1) y_test (1309, 3, 29, 1, 1)\n"
     ]
    }
   ],
   "source": [
    "line = '200S'\n",
    "freq = '15min'\n",
    "lags = 32\n",
    "preds = 3\n",
    "\n",
    "\n",
    "data_train, data_val, data_test = load_data(line, freq, lags, preds)\n",
    "\n",
    "# Unpack tensors\n",
    "(X_train, y_train) = data_train\n",
    "(X_val, y_val) = data_val\n",
    "(X_test, y_test, y_ix_test, y_mean_test, y_std_test) = data_test\n",
    "\n",
    "X_train = X_train[..., np.newaxis, np.newaxis]\n",
    "y_train = y_train[..., np.newaxis, np.newaxis]\n",
    "X_val = X_val[..., np.newaxis, np.newaxis]\n",
    "y_val = y_val[..., np.newaxis, np.newaxis]\n",
    "X_test = X_test[..., np.newaxis, np.newaxis]\n",
    "y_test = y_test[..., np.newaxis, np.newaxis]\n",
    "\n",
    "print('X_train', X_train.shape, 'y_train', y_train.shape)\n",
    "print('X_val', X_val.shape, 'y_val', y_val.shape)\n",
    "print('X_test', X_test.shape, 'y_test', y_test.shape)"
   ]
  },
  {
   "cell_type": "code",
   "execution_count": 4,
   "metadata": {
    "colab": {},
    "colab_type": "code",
    "id": "CYQ321P8E665"
   },
   "outputs": [],
   "source": [
    "quantiles = np.sort([0.025, 0.975, 0.05, 0.95, 0.10, 0.90, 0.20, 0.8, 0.4, 0.6])\n",
    "y_traink = np.zeros((y_train.shape[0], y_train.shape[1], y_train.shape[2], 1, len(quantiles)+1))\n",
    "y_valk  = np.zeros((y_val.shape[0], y_train.shape[1], y_train.shape[2], 1, len(quantiles)+1))\n",
    "for i in range(len(quantiles)+1):\n",
    "    y_traink[:,:,:,:,i] = y_train[:,:,:,:,0]\n",
    "    y_valk[:,:,:,:,i] = y_val[:,:,:,:,0]"
   ]
  },
  {
   "cell_type": "code",
   "execution_count": 5,
   "metadata": {},
   "outputs": [
    {
     "data": {
      "text/plain": [
       "array([0.025, 0.05 , 0.1  , 0.2  , 0.4  , 0.6  , 0.8  , 0.9  , 0.95 ,\n",
       "       0.975])"
      ]
     },
     "execution_count": 5,
     "metadata": {},
     "output_type": "execute_result"
    }
   ],
   "source": [
    "quantiles"
   ]
  },
  {
   "cell_type": "markdown",
   "metadata": {
    "colab_type": "text",
    "id": "QC4IBOREtLAa"
   },
   "source": [
    "# Joint Model (Encoder-Decoder ConvLSTM)"
   ]
  },
  {
   "cell_type": "code",
   "execution_count": 6,
   "metadata": {
    "colab": {},
    "colab_type": "code",
    "id": "aGCWTNA71_5U"
   },
   "outputs": [],
   "source": [
    "def joint_convLstm(num_filters, kernel_length, input_timesteps, num_links, output_timesteps, quantiles, prob, loss, opt):\n",
    "    model = Sequential()\n",
    "    model.add(BatchNormalization(name = 'batch_norm_0', input_shape = (input_timesteps, num_links, 1, 1)))\n",
    "    model.add(ConvLSTM2D(name ='conv_lstm_1',\n",
    "                         filters = num_filters, kernel_size = (kernel_length, 1), \n",
    "                         padding='same',\n",
    "                         return_sequences=False))\n",
    "\n",
    "    model.add(Dropout(prob, name = 'dropout_1'))\n",
    "    model.add(BatchNormalization(name = 'batch_norm_1'))\n",
    "\n",
    "    model.add(Flatten())\n",
    "    model.add(RepeatVector(output_timesteps))\n",
    "    model.add(Reshape((output_timesteps, num_links, 1, num_filters)))\n",
    "\n",
    "    model.add(ConvLSTM2D(name ='conv_lstm_2',filters = num_filters, kernel_size = (kernel_length, 1), padding='same',return_sequences = True))\n",
    "    model.add(Dropout(prob, name = 'dropout_2'))\n",
    "\n",
    "    model.add(TimeDistributed(Dense(units = len(quantiles) + 1, name = 'dense_1')))\n",
    "    model.compile(loss = loss, optimizer = opt)\n",
    "    return model"
   ]
  },
  {
   "cell_type": "markdown",
   "metadata": {
    "colab_type": "text",
    "id": "lbaB6gJHtVdV"
   },
   "source": [
    "# Training"
   ]
  },
  {
   "cell_type": "code",
   "execution_count": 7,
   "metadata": {},
   "outputs": [],
   "source": [
    "# Tilted loss for both mean and quantiles\n",
    "def joint_tilted_loss(quantiles, y, f):\n",
    "    loss = K.mean(K.square(y[:,:,:,0,0]-f[:,:,:,0,0]), axis = -1)\n",
    "    for k in range(len(quantiles)):\n",
    "        q = quantiles[k]\n",
    "        e = (y[:,:,:,0,k+1]-f[:,:,:,0,k+1])\n",
    "        loss += K.mean(K.maximum(q*e, (q-1)*e))\n",
    "    return loss\n"
   ]
  },
  {
   "cell_type": "code",
   "execution_count": 8,
   "metadata": {
    "colab": {
     "base_uri": "https://localhost:8080/",
     "height": 153
    },
    "colab_type": "code",
    "id": "_IsTBrgFz4P-",
    "outputId": "bff78231-3bf3-49c8-cf0e-f6be42839ff2",
    "scrolled": true
   },
   "outputs": [
    {
     "name": "stdout",
     "output_type": "stream",
     "text": [
      "Epoch 1/200\n",
      "175/175 [==============================] - 29s 166ms/step - loss: 3.8147 - val_loss: 4.1298\n",
      "Epoch 2/200\n",
      "175/175 [==============================] - 29s 164ms/step - loss: 3.5397 - val_loss: 3.9641\n",
      "Epoch 3/200\n",
      "175/175 [==============================] - 28s 162ms/step - loss: 3.3562 - val_loss: 3.6331\n",
      "Epoch 4/200\n",
      "175/175 [==============================] - 29s 165ms/step - loss: 3.2106 - val_loss: 3.3449\n",
      "Epoch 5/200\n",
      "175/175 [==============================] - 29s 166ms/step - loss: 3.1003 - val_loss: 3.2039\n",
      "Epoch 6/200\n",
      "175/175 [==============================] - 29s 167ms/step - loss: 3.0147 - val_loss: 3.1208\n",
      "Epoch 7/200\n",
      "175/175 [==============================] - 29s 167ms/step - loss: 2.9491 - val_loss: 3.0608\n",
      "Epoch 8/200\n",
      "175/175 [==============================] - 29s 164ms/step - loss: 2.8970 - val_loss: 3.0144\n",
      "Epoch 9/200\n",
      "175/175 [==============================] - 29s 163ms/step - loss: 2.8564 - val_loss: 2.9771\n",
      "Epoch 10/200\n",
      "175/175 [==============================] - 29s 165ms/step - loss: 2.8213 - val_loss: 2.9431\n",
      "Epoch 11/200\n",
      "175/175 [==============================] - 29s 165ms/step - loss: 2.7926 - val_loss: 2.9182\n",
      "Epoch 12/200\n",
      "175/175 [==============================] - 29s 163ms/step - loss: 2.7678 - val_loss: 2.8945\n",
      "Epoch 13/200\n",
      "175/175 [==============================] - 28s 163ms/step - loss: 2.7470 - val_loss: 2.8770\n",
      "Epoch 14/200\n",
      "175/175 [==============================] - 29s 164ms/step - loss: 2.7282 - val_loss: 2.8576\n",
      "Epoch 15/200\n",
      "175/175 [==============================] - 29s 165ms/step - loss: 2.7111 - val_loss: 2.8436\n",
      "Epoch 16/200\n",
      "175/175 [==============================] - 29s 164ms/step - loss: 2.6961 - val_loss: 2.8273\n",
      "Epoch 17/200\n",
      "175/175 [==============================] - 29s 165ms/step - loss: 2.6834 - val_loss: 2.8154\n",
      "Epoch 18/200\n",
      "175/175 [==============================] - 29s 167ms/step - loss: 2.6701 - val_loss: 2.8041\n",
      "Epoch 19/200\n",
      "175/175 [==============================] - 29s 163ms/step - loss: 2.6604 - val_loss: 2.7929\n",
      "Epoch 20/200\n",
      "175/175 [==============================] - 29s 166ms/step - loss: 2.6505 - val_loss: 2.7828\n",
      "Epoch 21/200\n",
      "175/175 [==============================] - 29s 165ms/step - loss: 2.6404 - val_loss: 2.7736\n",
      "Epoch 22/200\n",
      "175/175 [==============================] - 29s 163ms/step - loss: 2.6325 - val_loss: 2.7652\n",
      "Epoch 23/200\n",
      "175/175 [==============================] - 29s 166ms/step - loss: 2.6246 - val_loss: 2.7588\n",
      "Epoch 24/200\n",
      "175/175 [==============================] - 29s 167ms/step - loss: 2.6173 - val_loss: 2.7504\n",
      "Epoch 25/200\n",
      "175/175 [==============================] - 29s 165ms/step - loss: 2.6104 - val_loss: 2.7433\n",
      "Epoch 26/200\n",
      "175/175 [==============================] - 29s 164ms/step - loss: 2.6048 - val_loss: 2.7382\n",
      "Epoch 27/200\n",
      "175/175 [==============================] - 29s 166ms/step - loss: 2.5991 - val_loss: 2.7319\n",
      "Epoch 28/200\n",
      "175/175 [==============================] - 29s 164ms/step - loss: 2.5930 - val_loss: 2.7265\n",
      "Epoch 29/200\n",
      "175/175 [==============================] - 29s 164ms/step - loss: 2.5881 - val_loss: 2.7214\n",
      "Epoch 30/200\n",
      "175/175 [==============================] - 29s 164ms/step - loss: 2.5837 - val_loss: 2.7163\n",
      "Epoch 31/200\n",
      "175/175 [==============================] - 29s 165ms/step - loss: 2.5784 - val_loss: 2.7113\n",
      "Epoch 32/200\n",
      "175/175 [==============================] - 29s 166ms/step - loss: 2.5745 - val_loss: 2.7072\n",
      "Epoch 33/200\n",
      "175/175 [==============================] - 29s 165ms/step - loss: 2.5707 - val_loss: 2.7034\n",
      "Epoch 34/200\n",
      "175/175 [==============================] - 29s 164ms/step - loss: 2.5665 - val_loss: 2.6999\n",
      "Epoch 35/200\n",
      "175/175 [==============================] - 28s 162ms/step - loss: 2.5632 - val_loss: 2.6959\n",
      "Epoch 36/200\n",
      "175/175 [==============================] - 29s 166ms/step - loss: 2.5602 - val_loss: 2.6927\n",
      "Epoch 37/200\n",
      "175/175 [==============================] - 29s 164ms/step - loss: 2.5560 - val_loss: 2.6879\n",
      "Epoch 38/200\n",
      "175/175 [==============================] - 29s 164ms/step - loss: 2.5535 - val_loss: 2.6862\n",
      "Epoch 39/200\n",
      "175/175 [==============================] - 29s 164ms/step - loss: 2.5505 - val_loss: 2.6836\n",
      "Epoch 40/200\n",
      "175/175 [==============================] - 29s 164ms/step - loss: 2.5477 - val_loss: 2.6805\n",
      "Epoch 41/200\n",
      "175/175 [==============================] - 29s 165ms/step - loss: 2.5441 - val_loss: 2.6777\n",
      "Epoch 42/200\n",
      "175/175 [==============================] - 29s 165ms/step - loss: 2.5422 - val_loss: 2.6754\n",
      "Epoch 43/200\n",
      "175/175 [==============================] - 29s 163ms/step - loss: 2.5393 - val_loss: 2.6726\n",
      "Epoch 44/200\n",
      "175/175 [==============================] - 29s 167ms/step - loss: 2.5377 - val_loss: 2.6701\n",
      "Epoch 45/200\n",
      "175/175 [==============================] - 29s 164ms/step - loss: 2.5353 - val_loss: 2.6687\n",
      "Epoch 46/200\n",
      "175/175 [==============================] - 29s 167ms/step - loss: 2.5326 - val_loss: 2.6670\n",
      "Epoch 47/200\n",
      "175/175 [==============================] - 29s 166ms/step - loss: 2.5305 - val_loss: 2.6650\n",
      "Epoch 48/200\n",
      "175/175 [==============================] - 29s 166ms/step - loss: 2.5286 - val_loss: 2.6625\n",
      "Epoch 49/200\n",
      "175/175 [==============================] - 29s 166ms/step - loss: 2.5263 - val_loss: 2.6612\n",
      "Epoch 50/200\n",
      "175/175 [==============================] - 29s 166ms/step - loss: 2.5257 - val_loss: 2.6594\n",
      "Epoch 51/200\n",
      "175/175 [==============================] - 29s 164ms/step - loss: 2.5232 - val_loss: 2.6566\n",
      "Epoch 52/200\n",
      "175/175 [==============================] - 29s 165ms/step - loss: 2.5216 - val_loss: 2.6551\n",
      "Epoch 53/200\n",
      "175/175 [==============================] - 28s 162ms/step - loss: 2.5208 - val_loss: 2.6537\n",
      "Epoch 54/200\n",
      "175/175 [==============================] - 29s 165ms/step - loss: 2.5193 - val_loss: 2.6533\n",
      "Epoch 55/200\n",
      "175/175 [==============================] - 29s 165ms/step - loss: 2.5175 - val_loss: 2.6504\n",
      "Epoch 56/200\n",
      "175/175 [==============================] - 29s 165ms/step - loss: 2.5163 - val_loss: 2.6500\n",
      "Epoch 57/200\n",
      "175/175 [==============================] - 29s 164ms/step - loss: 2.5154 - val_loss: 2.6487\n",
      "Epoch 58/200\n",
      "175/175 [==============================] - 29s 166ms/step - loss: 2.5135 - val_loss: 2.6477\n",
      "Epoch 59/200\n",
      "175/175 [==============================] - 29s 166ms/step - loss: 2.5127 - val_loss: 2.6467\n",
      "Epoch 60/200\n",
      "175/175 [==============================] - 29s 165ms/step - loss: 2.5106 - val_loss: 2.6455\n",
      "Epoch 61/200\n",
      "175/175 [==============================] - 29s 166ms/step - loss: 2.5100 - val_loss: 2.6437\n",
      "Epoch 62/200\n",
      "175/175 [==============================] - 29s 166ms/step - loss: 2.5087 - val_loss: 2.6432\n",
      "Epoch 63/200\n",
      "175/175 [==============================] - 29s 165ms/step - loss: 2.5077 - val_loss: 2.6419\n",
      "Epoch 64/200\n",
      "175/175 [==============================] - 29s 166ms/step - loss: 2.5067 - val_loss: 2.6415\n",
      "Epoch 65/200\n",
      "175/175 [==============================] - 29s 166ms/step - loss: 2.5064 - val_loss: 2.6399\n",
      "Epoch 66/200\n",
      "175/175 [==============================] - 29s 166ms/step - loss: 2.5057 - val_loss: 2.6387\n",
      "Epoch 67/200\n",
      "175/175 [==============================] - 29s 167ms/step - loss: 2.5046 - val_loss: 2.6383\n",
      "Epoch 68/200\n",
      "175/175 [==============================] - 29s 164ms/step - loss: 2.5028 - val_loss: 2.6366\n",
      "Epoch 69/200\n",
      "175/175 [==============================] - 29s 164ms/step - loss: 2.5014 - val_loss: 2.6360\n",
      "Epoch 70/200\n",
      "175/175 [==============================] - 29s 164ms/step - loss: 2.5015 - val_loss: 2.6349\n",
      "Epoch 71/200\n",
      "175/175 [==============================] - 29s 165ms/step - loss: 2.4995 - val_loss: 2.6339\n",
      "Epoch 72/200\n",
      "175/175 [==============================] - 29s 164ms/step - loss: 2.4988 - val_loss: 2.6333\n",
      "Epoch 73/200\n",
      "175/175 [==============================] - 29s 166ms/step - loss: 2.4986 - val_loss: 2.6328\n",
      "Epoch 74/200\n",
      "175/175 [==============================] - 29s 165ms/step - loss: 2.4968 - val_loss: 2.6317\n",
      "Epoch 75/200\n",
      "175/175 [==============================] - 29s 165ms/step - loss: 2.4965 - val_loss: 2.6308\n",
      "Epoch 76/200\n",
      "175/175 [==============================] - 29s 165ms/step - loss: 2.4958 - val_loss: 2.6297\n",
      "Epoch 77/200\n",
      "175/175 [==============================] - 29s 163ms/step - loss: 2.4949 - val_loss: 2.6290\n",
      "Epoch 78/200\n",
      "175/175 [==============================] - 29s 164ms/step - loss: 2.4940 - val_loss: 2.6287\n",
      "Epoch 79/200\n",
      "175/175 [==============================] - 29s 166ms/step - loss: 2.4934 - val_loss: 2.6282\n",
      "Epoch 80/200\n",
      "175/175 [==============================] - 29s 166ms/step - loss: 2.4926 - val_loss: 2.6263\n",
      "Epoch 81/200\n",
      "175/175 [==============================] - 29s 164ms/step - loss: 2.4912 - val_loss: 2.6257\n",
      "Epoch 82/200\n",
      "175/175 [==============================] - 29s 166ms/step - loss: 2.4914 - val_loss: 2.6250\n",
      "Epoch 83/200\n",
      "175/175 [==============================] - 29s 166ms/step - loss: 2.4907 - val_loss: 2.6246\n",
      "Epoch 84/200\n",
      "175/175 [==============================] - 29s 164ms/step - loss: 2.4893 - val_loss: 2.6237\n",
      "Epoch 85/200\n",
      "175/175 [==============================] - 29s 165ms/step - loss: 2.4892 - val_loss: 2.6230\n",
      "Epoch 86/200\n",
      "175/175 [==============================] - 29s 165ms/step - loss: 2.4878 - val_loss: 2.6217\n",
      "Epoch 87/200\n",
      "175/175 [==============================] - 29s 163ms/step - loss: 2.4871 - val_loss: 2.6222\n",
      "Epoch 88/200\n",
      "175/175 [==============================] - 29s 164ms/step - loss: 2.4870 - val_loss: 2.6201\n",
      "Epoch 89/200\n",
      "175/175 [==============================] - 29s 165ms/step - loss: 2.4871 - val_loss: 2.6207\n",
      "Epoch 90/200\n",
      "175/175 [==============================] - 29s 167ms/step - loss: 2.4856 - val_loss: 2.6201\n",
      "Epoch 91/200\n",
      "175/175 [==============================] - 29s 164ms/step - loss: 2.4848 - val_loss: 2.6193\n",
      "Epoch 92/200\n",
      "175/175 [==============================] - 29s 164ms/step - loss: 2.4837 - val_loss: 2.6184\n",
      "Epoch 93/200\n",
      "175/175 [==============================] - 29s 167ms/step - loss: 2.4835 - val_loss: 2.6173\n",
      "Epoch 94/200\n",
      "175/175 [==============================] - 29s 165ms/step - loss: 2.4829 - val_loss: 2.6177\n",
      "Epoch 95/200\n",
      "175/175 [==============================] - 29s 165ms/step - loss: 2.4821 - val_loss: 2.6160\n",
      "Epoch 96/200\n",
      "175/175 [==============================] - 29s 166ms/step - loss: 2.4814 - val_loss: 2.6155\n",
      "Epoch 97/200\n",
      "175/175 [==============================] - 28s 162ms/step - loss: 2.4814 - val_loss: 2.6150\n",
      "Epoch 98/200\n",
      "175/175 [==============================] - 29s 163ms/step - loss: 2.4798 - val_loss: 2.6149\n",
      "Epoch 99/200\n",
      "175/175 [==============================] - 29s 167ms/step - loss: 2.4799 - val_loss: 2.6141\n",
      "Epoch 100/200\n",
      "175/175 [==============================] - 29s 165ms/step - loss: 2.4792 - val_loss: 2.6133\n",
      "Epoch 101/200\n",
      "175/175 [==============================] - 29s 165ms/step - loss: 2.4790 - val_loss: 2.6127\n",
      "Epoch 102/200\n",
      "175/175 [==============================] - 29s 166ms/step - loss: 2.4781 - val_loss: 2.6125\n",
      "Epoch 103/200\n",
      "175/175 [==============================] - 29s 163ms/step - loss: 2.4776 - val_loss: 2.6116\n",
      "Epoch 104/200\n",
      "175/175 [==============================] - 29s 166ms/step - loss: 2.4776 - val_loss: 2.6110\n",
      "Epoch 105/200\n",
      "175/175 [==============================] - 29s 164ms/step - loss: 2.4757 - val_loss: 2.6104\n",
      "Epoch 106/200\n",
      "175/175 [==============================] - 28s 163ms/step - loss: 2.4760 - val_loss: 2.6102\n",
      "Epoch 107/200\n",
      "175/175 [==============================] - 29s 166ms/step - loss: 2.4737 - val_loss: 2.6098\n",
      "Epoch 108/200\n",
      "175/175 [==============================] - 29s 165ms/step - loss: 2.4751 - val_loss: 2.6088\n",
      "Epoch 109/200\n",
      "175/175 [==============================] - 29s 163ms/step - loss: 2.4744 - val_loss: 2.6084\n",
      "Epoch 110/200\n",
      "175/175 [==============================] - 29s 164ms/step - loss: 2.4735 - val_loss: 2.6075\n",
      "Epoch 111/200\n",
      "175/175 [==============================] - 29s 165ms/step - loss: 2.4734 - val_loss: 2.6075\n",
      "Epoch 112/200\n",
      "175/175 [==============================] - 29s 166ms/step - loss: 2.4722 - val_loss: 2.6069\n",
      "Epoch 113/200\n",
      "175/175 [==============================] - 29s 164ms/step - loss: 2.4721 - val_loss: 2.6068\n",
      "Epoch 114/200\n",
      "175/175 [==============================] - 29s 163ms/step - loss: 2.4715 - val_loss: 2.6065\n",
      "Epoch 115/200\n",
      "175/175 [==============================] - 29s 163ms/step - loss: 2.4715 - val_loss: 2.6058\n",
      "Epoch 116/200\n",
      "175/175 [==============================] - 29s 165ms/step - loss: 2.4712 - val_loss: 2.6053\n",
      "Epoch 117/200\n",
      "175/175 [==============================] - 29s 164ms/step - loss: 2.4694 - val_loss: 2.6049\n",
      "Epoch 118/200\n",
      "175/175 [==============================] - 29s 167ms/step - loss: 2.4693 - val_loss: 2.6039\n",
      "Epoch 119/200\n",
      "175/175 [==============================] - 29s 166ms/step - loss: 2.4694 - val_loss: 2.6032\n",
      "Epoch 120/200\n",
      "175/175 [==============================] - 29s 164ms/step - loss: 2.4694 - val_loss: 2.6037\n",
      "Epoch 121/200\n",
      "175/175 [==============================] - 29s 164ms/step - loss: 2.4678 - val_loss: 2.6026\n",
      "Epoch 122/200\n",
      "175/175 [==============================] - 29s 164ms/step - loss: 2.4683 - val_loss: 2.6022\n",
      "Epoch 123/200\n",
      "175/175 [==============================] - 29s 164ms/step - loss: 2.4676 - val_loss: 2.6023\n",
      "Epoch 124/200\n",
      "175/175 [==============================] - 29s 167ms/step - loss: 2.4666 - val_loss: 2.6016\n",
      "Epoch 125/200\n",
      "175/175 [==============================] - 29s 164ms/step - loss: 2.4662 - val_loss: 2.6007\n",
      "Epoch 126/200\n",
      "175/175 [==============================] - 29s 167ms/step - loss: 2.4664 - val_loss: 2.6000\n",
      "Epoch 127/200\n",
      "175/175 [==============================] - 29s 168ms/step - loss: 2.4662 - val_loss: 2.6002\n",
      "Epoch 128/200\n",
      "175/175 [==============================] - 29s 163ms/step - loss: 2.4646 - val_loss: 2.5996\n",
      "Epoch 129/200\n",
      "175/175 [==============================] - 29s 163ms/step - loss: 2.4644 - val_loss: 2.5991\n",
      "Epoch 130/200\n",
      "175/175 [==============================] - 28s 163ms/step - loss: 2.4645 - val_loss: 2.5987\n",
      "Epoch 131/200\n",
      "175/175 [==============================] - 29s 166ms/step - loss: 2.4637 - val_loss: 2.5984\n",
      "Epoch 132/200\n",
      "175/175 [==============================] - 29s 165ms/step - loss: 2.4642 - val_loss: 2.5981\n",
      "Epoch 133/200\n",
      "175/175 [==============================] - 29s 164ms/step - loss: 2.4636 - val_loss: 2.5980\n",
      "Epoch 134/200\n",
      "175/175 [==============================] - 29s 165ms/step - loss: 2.4617 - val_loss: 2.5974\n",
      "Epoch 135/200\n",
      "175/175 [==============================] - 29s 165ms/step - loss: 2.4622 - val_loss: 2.5964\n",
      "Epoch 136/200\n",
      "175/175 [==============================] - 29s 163ms/step - loss: 2.4619 - val_loss: 2.5961\n",
      "Epoch 137/200\n",
      "175/175 [==============================] - 29s 164ms/step - loss: 2.4614 - val_loss: 2.5961\n",
      "Epoch 138/200\n",
      "175/175 [==============================] - 28s 162ms/step - loss: 2.4610 - val_loss: 2.5960\n",
      "Epoch 139/200\n",
      "175/175 [==============================] - 29s 167ms/step - loss: 2.4611 - val_loss: 2.5952\n",
      "Epoch 140/200\n",
      "175/175 [==============================] - 29s 165ms/step - loss: 2.4599 - val_loss: 2.5952\n",
      "Epoch 141/200\n",
      "175/175 [==============================] - 29s 165ms/step - loss: 2.4603 - val_loss: 2.5946\n",
      "Epoch 142/200\n",
      "175/175 [==============================] - 29s 165ms/step - loss: 2.4594 - val_loss: 2.5947\n",
      "Epoch 143/200\n",
      "175/175 [==============================] - 29s 166ms/step - loss: 2.4591 - val_loss: 2.5936\n",
      "Epoch 144/200\n",
      "175/175 [==============================] - 29s 165ms/step - loss: 2.4591 - val_loss: 2.5934\n",
      "Epoch 145/200\n",
      "175/175 [==============================] - 29s 164ms/step - loss: 2.4586 - val_loss: 2.5928\n",
      "Epoch 146/200\n",
      "175/175 [==============================] - 29s 164ms/step - loss: 2.4582 - val_loss: 2.5923\n",
      "Epoch 147/200\n",
      "175/175 [==============================] - 29s 164ms/step - loss: 2.4579 - val_loss: 2.5926\n",
      "Epoch 148/200\n",
      "175/175 [==============================] - 28s 162ms/step - loss: 2.4575 - val_loss: 2.5922\n",
      "Epoch 149/200\n",
      "175/175 [==============================] - 28s 162ms/step - loss: 2.4564 - val_loss: 2.5919\n",
      "Epoch 150/200\n",
      "175/175 [==============================] - 29s 166ms/step - loss: 2.4555 - val_loss: 2.5911\n",
      "Epoch 151/200\n",
      "175/175 [==============================] - 29s 163ms/step - loss: 2.4562 - val_loss: 2.5910\n",
      "Epoch 152/200\n",
      "175/175 [==============================] - 29s 166ms/step - loss: 2.4554 - val_loss: 2.5908\n",
      "Epoch 153/200\n",
      "175/175 [==============================] - 29s 165ms/step - loss: 2.4558 - val_loss: 2.5908\n",
      "Epoch 154/200\n",
      "175/175 [==============================] - 29s 163ms/step - loss: 2.4551 - val_loss: 2.5904\n",
      "Epoch 155/200\n",
      "175/175 [==============================] - 29s 164ms/step - loss: 2.4547 - val_loss: 2.5895\n",
      "Epoch 156/200\n",
      "175/175 [==============================] - 29s 165ms/step - loss: 2.4541 - val_loss: 2.5894\n",
      "Epoch 157/200\n",
      "175/175 [==============================] - 29s 166ms/step - loss: 2.4545 - val_loss: 2.5887\n",
      "Epoch 158/200\n",
      "175/175 [==============================] - 29s 163ms/step - loss: 2.4542 - val_loss: 2.5887\n",
      "Epoch 159/200\n",
      "175/175 [==============================] - 29s 164ms/step - loss: 2.4538 - val_loss: 2.5891\n",
      "Epoch 160/200\n",
      "175/175 [==============================] - 28s 162ms/step - loss: 2.4537 - val_loss: 2.5879\n",
      "Epoch 161/200\n",
      "175/175 [==============================] - 29s 165ms/step - loss: 2.4529 - val_loss: 2.5882\n",
      "Epoch 162/200\n",
      "175/175 [==============================] - 29s 164ms/step - loss: 2.4529 - val_loss: 2.5876\n",
      "Epoch 163/200\n",
      "175/175 [==============================] - 29s 163ms/step - loss: 2.4521 - val_loss: 2.5873\n",
      "Epoch 164/200\n",
      "175/175 [==============================] - 29s 163ms/step - loss: 2.4522 - val_loss: 2.5871\n",
      "Epoch 165/200\n",
      "175/175 [==============================] - 29s 164ms/step - loss: 2.4522 - val_loss: 2.5871\n",
      "Epoch 166/200\n",
      "175/175 [==============================] - 29s 165ms/step - loss: 2.4519 - val_loss: 2.5866\n",
      "Epoch 167/200\n",
      "175/175 [==============================] - 28s 161ms/step - loss: 2.4513 - val_loss: 2.5855\n",
      "Epoch 168/200\n",
      "175/175 [==============================] - 29s 164ms/step - loss: 2.4512 - val_loss: 2.5856\n",
      "Epoch 169/200\n",
      "175/175 [==============================] - 29s 164ms/step - loss: 2.4513 - val_loss: 2.5857\n",
      "Epoch 00169: early stopping\n"
     ]
    }
   ],
   "source": [
    "# Best parameters [79, 1, 0.10521284879519917]\n",
    "# Validation Loss 2.3823776245117188\n",
    "\n",
    "num_filters = 79\n",
    "kernel_length = 1\n",
    "prob = 0.10521284879519917\n",
    "num_links = X_train.shape[2]\n",
    "lags = X_train.shape[1]\n",
    "opt = tf.keras.optimizers.Adagrad(learning_rate=1e-3) #1e-3\n",
    "loss = lambda y, f: joint_tilted_loss(quantiles, y, f)\n",
    "net = joint_convLstm(num_filters, kernel_length, lags, num_links, preds, quantiles, prob, loss, opt)\n",
    "mc = tf.keras.callbacks.ModelCheckpoint( filepath=\"Model Checkpoint/joint\",\n",
    "                                        save_weights_only=True,\n",
    "                                        monitor='val_loss',\n",
    "                                        mode='min',\n",
    "                                        save_best_only=True)\n",
    "es = EarlyStopping(monitor='val_loss', mode='min', verbose=1, patience=2)\n",
    "net.fit(X_train, y_traink, validation_data=(X_val, y_valk), batch_size=50, callbacks=[es, mc], epochs=200)\n",
    "net.load_weights(\"Model Checkpoint/joint\")\n",
    "y_pred = net.predict(X_test)\n",
    "## Sort only the quantiles\n",
    "y_pred[:,:,:,:,1:] = np.sort(y_pred[:,:,:,:,1:], axis=4)"
   ]
  },
  {
   "cell_type": "code",
   "execution_count": 10,
   "metadata": {},
   "outputs": [],
   "source": [
    "np.save('DQR/y_test_pred_joint_200s.npy', y_pred)\n",
    "np.save('DQR/y_test_200s.npy', y_test)\n",
    "np.save('DQR/y_test_mean_200s.npy', y_mean_test)\n",
    "np.save('DQR/y_test_std_200s.npy', y_std_test)"
   ]
  },
  {
   "cell_type": "code",
   "execution_count": 11,
   "metadata": {
    "colab": {
     "base_uri": "https://localhost:8080/",
     "height": 282
    },
    "colab_type": "code",
    "id": "NTlKyyKHcswk",
    "outputId": "a47fa6d6-7302-47f4-8d21-1162d68d6750"
   },
   "outputs": [
    {
     "data": {
      "text/plain": [
       "[<matplotlib.lines.Line2D at 0x7f6c1468b0b8>]"
      ]
     },
     "execution_count": 11,
     "metadata": {},
     "output_type": "execute_result"
    },
    {
     "data": {
      "image/png": "[encoded data removed]",
      "text/plain": [
       "<Figure size 432x288 with 1 Axes>"
      ]
     },
     "metadata": {
      "needs_background": "light"
     },
     "output_type": "display_data"
    }
   ],
   "source": [
    "up_to = 1000\n",
    "plt.plot(y_ix_test[:up_to], np.sum(y_test[:up_to,0,:,0,0]*y_std_test[:up_to,0,:]+y_mean_test[:up_to,0,:], axis=1), 'bo')\n",
    "plt.plot(y_ix_test[:up_to], np.sum(y_pred[:up_to,0,:,0,0]*y_std_test[:up_to,0,:]+y_mean_test[:up_to,0,:], axis=1), 'r')"
   ]
  },
  {
   "cell_type": "markdown",
   "metadata": {
    "colab_type": "text",
    "id": "BFLwKOhBtYV2"
   },
   "source": [
    "# Quantile Sampling (Example)"
   ]
  },
  {
   "cell_type": "code",
   "execution_count": 12,
   "metadata": {
    "colab": {
     "base_uri": "https://localhost:8080/",
     "height": 296
    },
    "colab_type": "code",
    "id": "pcGCqD48E4NW",
    "outputId": "e95114f8-dca7-4660-aa3c-2d1afaa0d787",
    "scrolled": true
   },
   "outputs": [
    {
     "name": "stdout",
     "output_type": "stream",
     "text": [
      "-0.3215702389568721 0.909438556843736\n"
     ]
    },
    {
     "data": {
      "text/plain": [
       "[<matplotlib.lines.Line2D at 0x7f6d35b06c50>]"
      ]
     },
     "execution_count": 12,
     "metadata": {},
     "output_type": "execute_result"
    },
    {
     "data": {
      "image/png": "[encoded data removed]",
      "text/plain": [
       "<Figure size 432x288 with 1 Axes>"
      ]
     },
     "metadata": {
      "needs_background": "light"
     },
     "output_type": "display_data"
    }
   ],
   "source": [
    "S=500\n",
    "t = 60\n",
    "ln = 12\n",
    "(mu, sigma), _ = curve_fit(lambda x, mu, sigma: norm.cdf(x, mu, sigma), y_pred[t,0,ln,0,1:].astype(float), quantiles)\n",
    "print(mu, sigma)\n",
    "x = np.linspace(y_pred[t,0,ln,0,1] - 0.3, y_pred[t,0,ln,0,-1] + 0.3, 1000)\n",
    "plt.plot(y_pred[t,0,ln,0,1:], quantiles, 'bo')\n",
    "plt.xlabel('Value (Standardized)')\n",
    "plt.ylabel('Quantile')\n",
    "plt.plot(x, norm.cdf(x, mu, sigma), 'r')"
   ]
  },
  {
   "cell_type": "code",
   "execution_count": 13,
   "metadata": {},
   "outputs": [
    {
     "data": {
      "text/plain": [
       "(array([  4.,   7.,  30.,  75.,  80., 107., 113.,  53.,  26.,   5.]),\n",
       " array([-3.22647092, -2.6865004 , -2.14652987, -1.60655935, -1.06658883,\n",
       "        -0.52661831,  0.01335221,  0.55332274,  1.09329326,  1.63326378,\n",
       "         2.1732343 ]),\n",
       " <a list of 10 Patch objects>)"
      ]
     },
     "execution_count": 13,
     "metadata": {},
     "output_type": "execute_result"
    },
    {
     "data": {
      "image/png": "[encoded data removed]",
      "text/plain": [
       "<Figure size 432x288 with 1 Axes>"
      ]
     },
     "metadata": {
      "needs_background": "light"
     },
     "output_type": "display_data"
    }
   ],
   "source": [
    "plt.hist(norm.rvs(loc=mu, scale=sigma, size=S))"
   ]
  },
  {
   "cell_type": "code",
   "execution_count": null,
   "metadata": {},
   "outputs": [],
   "source": []
  }
 ],
 "metadata": {
  "accelerator": "GPU",
  "colab": {
   "collapsed_sections": [
    "QC4IBOREtLAa",
    "lbaB6gJHtVdV",
    "BFLwKOhBtYV2"
   ],
   "name": "Movia Models.ipynb",
   "provenance": []
  },
  "kernelspec": {
   "display_name": "Python 3",
   "language": "python",
   "name": "python3"
  },
  "language_info": {
   "codemirror_mode": {
    "name": "ipython",
    "version": 3
   },
   "file_extension": ".py",
   "mimetype": "text/x-python",
   "name": "python",
   "nbconvert_exporter": "python",
   "pygments_lexer": "ipython3",
   "version": "3.6.6"
  }
 },
 "nbformat": 4,
 "nbformat_minor": 2
}
