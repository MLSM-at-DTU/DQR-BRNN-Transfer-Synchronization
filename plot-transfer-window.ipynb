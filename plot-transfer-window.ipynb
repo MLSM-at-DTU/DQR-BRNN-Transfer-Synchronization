{
 "cells": [
  {
   "cell_type": "code",
   "execution_count": 1,
   "metadata": {},
   "outputs": [],
   "source": [
    "import numpy as np\n",
    "import pandas as pd\n",
    "import matplotlib.pyplot as plt"
   ]
  },
  {
   "cell_type": "code",
   "execution_count": 2,
   "metadata": {},
   "outputs": [],
   "source": [
    "import seaborn as sns"
   ]
  },
  {
   "cell_type": "code",
   "execution_count": 3,
   "metadata": {},
   "outputs": [],
   "source": [
    "from scipy.optimize import curve_fit \n",
    "from scipy.stats import norm, lognorm"
   ]
  },
  {
   "cell_type": "markdown",
   "metadata": {},
   "source": [
    "## Data Preprocessing"
   ]
  },
  {
   "cell_type": "code",
   "execution_count": 4,
   "metadata": {},
   "outputs": [],
   "source": [
    "freq = '15min'\n",
    "lags = 32\n",
    "preds = 3"
   ]
  },
  {
   "cell_type": "markdown",
   "metadata": {},
   "source": [
    "### Load time index and links indexes for each line to transfer site"
   ]
  },
  {
   "cell_type": "code",
   "execution_count": 5,
   "metadata": {},
   "outputs": [
    {
     "data": {
      "text/plain": [
       "(1309,)"
      ]
     },
     "execution_count": 5,
     "metadata": {},
     "output_type": "execute_result"
    }
   ],
   "source": [
    "data_test_200S = pd.read_csv('Data/200S_15min_test_raw.csv.gz', index_col=0, parse_dates=['Time'])\n",
    "lns_200s = np.arange(len(data_test_200S.columns))[data_test_200S.columns.isin(['52396:11'])]\n",
    "ix_test = data_test_200S.index[lags:-preds]\n",
    "ix_test_rev = {k:v for v,k in enumerate(ix_test)}\n",
    "ix_test.shape"
   ]
  },
  {
   "cell_type": "code",
   "execution_count": 6,
   "metadata": {},
   "outputs": [
    {
     "data": {
      "text/plain": [
       "array([11, 12, 13])"
      ]
     },
     "execution_count": 6,
     "metadata": {},
     "output_type": "execute_result"
    }
   ],
   "source": [
    "data_test_300S = pd.read_csv('Data/300S_15min_test_raw.csv.gz', index_col=0, parse_dates=['Time'])\n",
    "lns_300s = np.arange(len(data_test_300S.columns))[data_test_300S.columns.isin(['6:8', '8:9','9:11'])]\n",
    "lns_300s"
   ]
  },
  {
   "cell_type": "markdown",
   "metadata": {},
   "source": [
    "### Load model outputs, including samples"
   ]
  },
  {
   "cell_type": "code",
   "execution_count": 7,
   "metadata": {},
   "outputs": [
    {
     "data": {
      "text/plain": [
       "(1309, 3, 39, 500)"
      ]
     },
     "execution_count": 7,
     "metadata": {},
     "output_type": "execute_result"
    }
   ],
   "source": [
    "dqr_300s_y_test_pred_ = np.load('DQR/y_test_pred_joint_300s.npy')\n",
    "dqr_300s_y_test_mean = np.load('DQR/y_test_mean_300s.npy')\n",
    "dqr_300s_y_test_std = np.load('DQR/y_test_std_300s.npy')\n",
    "dqr_300s_y_test = np.load('DQR/y_test_300s.npy')\n",
    "dqr_300s_y_pred_s = np.load('DQR/y_test_pred_joint_samples_300s.npy')\n",
    "\n",
    "dqr_300s_y_test_pred = dqr_300s_y_test_pred_*np.repeat(dqr_300s_y_test_std[..., np.newaxis, np.newaxis], 11, axis=4)+np.repeat(dqr_300s_y_test_mean[..., np.newaxis, np.newaxis], 11, axis=4)\n",
    "\n",
    "dqr_300s_y_pred_s.shape"
   ]
  },
  {
   "cell_type": "code",
   "execution_count": 122,
   "metadata": {},
   "outputs": [
    {
     "data": {
      "text/plain": [
       "(1309, 3, 29, 500)"
      ]
     },
     "execution_count": 122,
     "metadata": {},
     "output_type": "execute_result"
    }
   ],
   "source": [
    "dqr_200s_y_test_pred_ = np.load('DQR/y_test_pred_joint_200s.npy')\n",
    "dqr_200s_y_test_mean = np.load('DQR/y_test_mean_200s.npy')\n",
    "dqr_200s_y_test_std = np.load('DQR/y_test_std_200s.npy')\n",
    "dqr_200s_y_test = np.load('DQR/y_test_200s.npy')\n",
    "dqr_200s_y_pred_s = np.load('DQR/y_test_pred_joint_samples_200s.npy')\n",
    "\n",
    "dqr_200s_y_test_pred = dqr_200s_y_test_pred_*np.repeat(dqr_200s_y_test_std[..., np.newaxis, np.newaxis], 11, axis=4)+np.repeat(dqr_200s_y_test_mean[..., np.newaxis, np.newaxis], 11, axis=4)\n",
    "\n",
    "dqr_200s_y_pred_s.shape"
   ]
  },
  {
   "cell_type": "code",
   "execution_count": 149,
   "metadata": {},
   "outputs": [
    {
     "data": {
      "text/plain": [
       "(1309, 3, 29, 500)"
      ]
     },
     "execution_count": 149,
     "metadata": {},
     "output_type": "execute_result"
    }
   ],
   "source": [
    "brnn_200s_y_pred_s = np.load('BRNN/y_test_pred_samples_200s.npy').transpose(1,2,3,0)\n",
    "brnn_200s_y_pred_s.shape"
   ]
  },
  {
   "cell_type": "code",
   "execution_count": 150,
   "metadata": {},
   "outputs": [
    {
     "data": {
      "text/plain": [
       "(1309, 3, 39, 500)"
      ]
     },
     "execution_count": 150,
     "metadata": {},
     "output_type": "execute_result"
    }
   ],
   "source": [
    "brnn_300s_y_pred_s = np.load('BRNN/y_test_pred_samples_300s.npy').transpose(1,2,3,0)\n",
    "brnn_300s_y_pred_s.shape"
   ]
  },
  {
   "cell_type": "code",
   "execution_count": 151,
   "metadata": {},
   "outputs": [
    {
     "data": {
      "text/html": [
       "<div>\n",
       "<style scoped>\n",
       "    .dataframe tbody tr th:only-of-type {\n",
       "        vertical-align: middle;\n",
       "    }\n",
       "\n",
       "    .dataframe tbody tr th {\n",
       "        vertical-align: top;\n",
       "    }\n",
       "\n",
       "    .dataframe thead th {\n",
       "        text-align: right;\n",
       "    }\n",
       "</style>\n",
       "<table border=\"1\" class=\"dataframe\">\n",
       "  <thead>\n",
       "    <tr style=\"text-align: right;\">\n",
       "      <th></th>\n",
       "      <th>MatchTime</th>\n",
       "      <th>JourneyRef_200S</th>\n",
       "      <th>DepartureTime_200S</th>\n",
       "      <th>ArrivalTime_200S</th>\n",
       "      <th>MultiLinkTravelTime_200S</th>\n",
       "      <th>PreConnectionDelay_200S</th>\n",
       "      <th>PostConnectionDelay_200S</th>\n",
       "      <th>MatchTime_200S</th>\n",
       "      <th>ConnectionDelay_200S</th>\n",
       "      <th>JourneyRef_300S</th>\n",
       "      <th>DepartureTime_300S</th>\n",
       "      <th>ArrivalTime_300S</th>\n",
       "      <th>MultiLinkTravelTime_300S</th>\n",
       "      <th>PreConnectionDelay_300S</th>\n",
       "      <th>PostConnectionDelay_300S</th>\n",
       "      <th>MatchTime_300S</th>\n",
       "      <th>ConnectionDelay_300S</th>\n",
       "      <th>Connection State</th>\n",
       "    </tr>\n",
       "  </thead>\n",
       "  <tbody>\n",
       "    <tr>\n",
       "      <th>0</th>\n",
       "      <td>2020-11-16 06:17:00</td>\n",
       "      <td>20201116L0200J0096</td>\n",
       "      <td>2020-11-16 06:15:10</td>\n",
       "      <td>2020-11-16 06:18:20</td>\n",
       "      <td>190.0</td>\n",
       "      <td>10.0</td>\n",
       "      <td>92.0</td>\n",
       "      <td>2020-11-16 06:17:00</td>\n",
       "      <td>82.0</td>\n",
       "      <td>20201116L0300J0024</td>\n",
       "      <td>2020-11-16 06:12:41</td>\n",
       "      <td>2020-11-16 06:16:13</td>\n",
       "      <td>212.0</td>\n",
       "      <td>82.0</td>\n",
       "      <td>158.0</td>\n",
       "      <td>2020-11-16 06:14:00</td>\n",
       "      <td>76.0</td>\n",
       "      <td>Kept</td>\n",
       "    </tr>\n",
       "    <tr>\n",
       "      <th>1</th>\n",
       "      <td>2020-11-16 06:37:00</td>\n",
       "      <td>20201116L0200J0098</td>\n",
       "      <td>2020-11-16 06:34:03</td>\n",
       "      <td>2020-11-16 06:36:51</td>\n",
       "      <td>168.0</td>\n",
       "      <td>3.0</td>\n",
       "      <td>-9.0</td>\n",
       "      <td>2020-11-16 06:37:00</td>\n",
       "      <td>-12.0</td>\n",
       "      <td>20201116L0300J0168</td>\n",
       "      <td>2020-11-16 06:35:50</td>\n",
       "      <td>2020-11-16 06:39:20</td>\n",
       "      <td>210.0</td>\n",
       "      <td>99.0</td>\n",
       "      <td>151.0</td>\n",
       "      <td>2020-11-16 06:37:00</td>\n",
       "      <td>52.0</td>\n",
       "      <td>Broken</td>\n",
       "    </tr>\n",
       "    <tr>\n",
       "      <th>2</th>\n",
       "      <td>2020-11-16 06:58:00</td>\n",
       "      <td>20201116L0200J0100</td>\n",
       "      <td>2020-11-16 06:55:00</td>\n",
       "      <td>2020-11-16 06:58:17</td>\n",
       "      <td>197.0</td>\n",
       "      <td>0.0</td>\n",
       "      <td>29.0</td>\n",
       "      <td>2020-11-16 06:58:00</td>\n",
       "      <td>29.0</td>\n",
       "      <td>20201116L0300J0064</td>\n",
       "      <td>2020-11-16 06:55:53</td>\n",
       "      <td>2020-11-16 07:01:41</td>\n",
       "      <td>339.0</td>\n",
       "      <td>94.0</td>\n",
       "      <td>239.0</td>\n",
       "      <td>2020-11-16 06:58:00</td>\n",
       "      <td>145.0</td>\n",
       "      <td>Broken</td>\n",
       "    </tr>\n",
       "    <tr>\n",
       "      <th>3</th>\n",
       "      <td>2020-11-16 07:10:00</td>\n",
       "      <td>20201116L0200J0101</td>\n",
       "      <td>2020-11-16 07:07:06</td>\n",
       "      <td>2020-11-16 07:10:16</td>\n",
       "      <td>190.0</td>\n",
       "      <td>6.0</td>\n",
       "      <td>36.0</td>\n",
       "      <td>2020-11-16 07:10:00</td>\n",
       "      <td>30.0</td>\n",
       "      <td>20201116L0300J0194</td>\n",
       "      <td>2020-11-16 07:11:52</td>\n",
       "      <td>2020-11-16 07:16:09</td>\n",
       "      <td>248.0</td>\n",
       "      <td>356.0</td>\n",
       "      <td>437.0</td>\n",
       "      <td>2020-11-16 07:09:00</td>\n",
       "      <td>81.0</td>\n",
       "      <td>Broken</td>\n",
       "    </tr>\n",
       "    <tr>\n",
       "      <th>4</th>\n",
       "      <td>2020-11-16 07:30:00</td>\n",
       "      <td>20201116L0200J0104</td>\n",
       "      <td>2020-11-16 07:27:13</td>\n",
       "      <td>2020-11-16 07:30:16</td>\n",
       "      <td>183.0</td>\n",
       "      <td>13.0</td>\n",
       "      <td>16.0</td>\n",
       "      <td>2020-11-16 07:30:00</td>\n",
       "      <td>3.0</td>\n",
       "      <td>20201116L0300J0067</td>\n",
       "      <td>2020-11-16 07:26:18</td>\n",
       "      <td>2020-11-16 07:31:03</td>\n",
       "      <td>285.0</td>\n",
       "      <td>85.0</td>\n",
       "      <td>196.0</td>\n",
       "      <td>2020-11-16 07:28:00</td>\n",
       "      <td>111.0</td>\n",
       "      <td>Broken</td>\n",
       "    </tr>\n",
       "  </tbody>\n",
       "</table>\n",
       "</div>"
      ],
      "text/plain": [
       "             MatchTime     JourneyRef_200S  DepartureTime_200S  \\\n",
       "0  2020-11-16 06:17:00  20201116L0200J0096 2020-11-16 06:15:10   \n",
       "1  2020-11-16 06:37:00  20201116L0200J0098 2020-11-16 06:34:03   \n",
       "2  2020-11-16 06:58:00  20201116L0200J0100 2020-11-16 06:55:00   \n",
       "3  2020-11-16 07:10:00  20201116L0200J0101 2020-11-16 07:07:06   \n",
       "4  2020-11-16 07:30:00  20201116L0200J0104 2020-11-16 07:27:13   \n",
       "\n",
       "     ArrivalTime_200S  MultiLinkTravelTime_200S  PreConnectionDelay_200S  \\\n",
       "0 2020-11-16 06:18:20                     190.0                     10.0   \n",
       "1 2020-11-16 06:36:51                     168.0                      3.0   \n",
       "2 2020-11-16 06:58:17                     197.0                      0.0   \n",
       "3 2020-11-16 07:10:16                     190.0                      6.0   \n",
       "4 2020-11-16 07:30:16                     183.0                     13.0   \n",
       "\n",
       "   PostConnectionDelay_200S       MatchTime_200S  ConnectionDelay_200S  \\\n",
       "0                      92.0  2020-11-16 06:17:00                  82.0   \n",
       "1                      -9.0  2020-11-16 06:37:00                 -12.0   \n",
       "2                      29.0  2020-11-16 06:58:00                  29.0   \n",
       "3                      36.0  2020-11-16 07:10:00                  30.0   \n",
       "4                      16.0  2020-11-16 07:30:00                   3.0   \n",
       "\n",
       "      JourneyRef_300S  DepartureTime_300S    ArrivalTime_300S  \\\n",
       "0  20201116L0300J0024 2020-11-16 06:12:41 2020-11-16 06:16:13   \n",
       "1  20201116L0300J0168 2020-11-16 06:35:50 2020-11-16 06:39:20   \n",
       "2  20201116L0300J0064 2020-11-16 06:55:53 2020-11-16 07:01:41   \n",
       "3  20201116L0300J0194 2020-11-16 07:11:52 2020-11-16 07:16:09   \n",
       "4  20201116L0300J0067 2020-11-16 07:26:18 2020-11-16 07:31:03   \n",
       "\n",
       "   MultiLinkTravelTime_300S  PreConnectionDelay_300S  \\\n",
       "0                     212.0                     82.0   \n",
       "1                     210.0                     99.0   \n",
       "2                     339.0                     94.0   \n",
       "3                     248.0                    356.0   \n",
       "4                     285.0                     85.0   \n",
       "\n",
       "   PostConnectionDelay_300S       MatchTime_300S  ConnectionDelay_300S  \\\n",
       "0                     158.0  2020-11-16 06:14:00                  76.0   \n",
       "1                     151.0  2020-11-16 06:37:00                  52.0   \n",
       "2                     239.0  2020-11-16 06:58:00                 145.0   \n",
       "3                     437.0  2020-11-16 07:09:00                  81.0   \n",
       "4                     196.0  2020-11-16 07:28:00                 111.0   \n",
       "\n",
       "  Connection State  \n",
       "0             Kept  \n",
       "1           Broken  \n",
       "2           Broken  \n",
       "3           Broken  \n",
       "4           Broken  "
      ]
     },
     "execution_count": 151,
     "metadata": {},
     "output_type": "execute_result"
    }
   ],
   "source": [
    "connection_data = pd.read_csv('Data/300S_200S_Connections.csv.gz', parse_dates=['DepartureTime_200S', 'DepartureTime_300S', 'ArrivalTime_200S', 'ArrivalTime_300S'])\n",
    "connection_data.head()"
   ]
  },
  {
   "cell_type": "markdown",
   "metadata": {},
   "source": [
    "### Match time stamp to time step index in predictions"
   ]
  },
  {
   "cell_type": "code",
   "execution_count": 152,
   "metadata": {},
   "outputs": [],
   "source": [
    "connection_data['t_200S'] = connection_data['DepartureTime_200S'].dt.floor(freq).map(ix_test_rev)\n",
    "connection_data['t_300S'] = connection_data['DepartureTime_300S'].dt.floor(freq).map(ix_test_rev)\n",
    "connection_data = connection_data.dropna().copy() # we might have some connections in the lags/preds space. Skip those for now\n",
    "connection_data['t_200S'] = connection_data['t_200S'].astype(int)\n",
    "connection_data['t_300S'] = connection_data['t_300S'].astype(int)"
   ]
  },
  {
   "cell_type": "code",
   "execution_count": 153,
   "metadata": {},
   "outputs": [
    {
     "data": {
      "text/plain": [
       "Timestamp('2020-11-16 16:35:07')"
      ]
     },
     "execution_count": 153,
     "metadata": {},
     "output_type": "execute_result"
    }
   ],
   "source": [
    " connection_data.loc[42, 'DepartureTime_200S']"
   ]
  },
  {
   "cell_type": "code",
   "execution_count": 154,
   "metadata": {},
   "outputs": [
    {
     "data": {
      "text/plain": [
       "(439, 500)"
      ]
     },
     "execution_count": 154,
     "metadata": {},
     "output_type": "execute_result"
    }
   ],
   "source": [
    "dqr_300s_samples = dqr_300s_y_pred_s[connection_data['t_300S'].values][:, 0, lns_300s, :].sum(axis=1)\n",
    "connection_data['DQR_Mean_300S'] = dqr_300s_samples.mean(axis=1)\n",
    "dqr_300s_samples.shape"
   ]
  },
  {
   "cell_type": "code",
   "execution_count": 155,
   "metadata": {},
   "outputs": [
    {
     "data": {
      "text/plain": [
       "(439, 500)"
      ]
     },
     "execution_count": 155,
     "metadata": {},
     "output_type": "execute_result"
    }
   ],
   "source": [
    "dqr_200s_samples = dqr_200s_y_pred_s[connection_data['t_200S'].values][:, 0, lns_200s, :].sum(axis=1)\n",
    "connection_data['DQR_Mean_200S'] = dqr_200s_samples.mean(axis=1)\n",
    "dqr_200s_samples.shape"
   ]
  },
  {
   "cell_type": "code",
   "execution_count": 156,
   "metadata": {},
   "outputs": [
    {
     "data": {
      "text/plain": [
       "(439, 500)"
      ]
     },
     "execution_count": 156,
     "metadata": {},
     "output_type": "execute_result"
    }
   ],
   "source": [
    "brnn_200s_samples = brnn_200s_y_pred_s[connection_data['t_200S'].values][:, 0, lns_200s, :].sum(axis=1)\n",
    "connection_data['BRNN_Mean_200S'] = brnn_200s_samples.mean(axis=1)\n",
    "brnn_200s_samples.shape"
   ]
  },
  {
   "cell_type": "code",
   "execution_count": 158,
   "metadata": {},
   "outputs": [
    {
     "data": {
      "text/plain": [
       "(439, 500)"
      ]
     },
     "execution_count": 158,
     "metadata": {},
     "output_type": "execute_result"
    }
   ],
   "source": [
    "brnn_300s_samples = brnn_300s_y_pred_s[connection_data['t_300S'].values][:, 0, lns_200s, :].sum(axis=1)\n",
    "connection_data['BRNN_Mean_300S'] = brnn_300s_samples.mean(axis=1)\n",
    "brnn_300s_samples.shape"
   ]
  },
  {
   "cell_type": "code",
   "execution_count": 167,
   "metadata": {},
   "outputs": [
    {
     "name": "stderr",
     "output_type": "stream",
     "text": [
      "/home/ncp/jupyter/jupyter-env/lib/python3.6/site-packages/seaborn/distributions.py:2551: FutureWarning: `distplot` is a deprecated function and will be removed in a future version. Please adapt your code to use either `displot` (a figure-level function with similar flexibility) or `histplot` (an axes-level function for histograms).\n",
      "  warnings.warn(msg, FutureWarning)\n",
      "/home/ncp/jupyter/jupyter-env/lib/python3.6/site-packages/seaborn/distributions.py:2551: FutureWarning: `distplot` is a deprecated function and will be removed in a future version. Please adapt your code to use either `displot` (a figure-level function with similar flexibility) or `histplot` (an axes-level function for histograms).\n",
      "  warnings.warn(msg, FutureWarning)\n",
      "/home/ncp/jupyter/jupyter-env/lib/python3.6/site-packages/seaborn/distributions.py:2551: FutureWarning: `distplot` is a deprecated function and will be removed in a future version. Please adapt your code to use either `displot` (a figure-level function with similar flexibility) or `histplot` (an axes-level function for histograms).\n",
      "  warnings.warn(msg, FutureWarning)\n"
     ]
    },
    {
     "data": {
      "image/png": "[encoded data removed]",
      "text/plain": [
       "<Figure size 1152x288 with 3 Axes>"
      ]
     },
     "metadata": {
      "needs_background": "light"
     },
     "output_type": "display_data"
    }
   ],
   "source": [
    "connection_ix = 58\n",
    "dist_300s = dqr_300s_samples\n",
    "dist_200s = brnn_200s_samples\n",
    "fig, ax = plt.subplots(figsize=(16, 4), ncols=3)\n",
    "sns.distplot(dist_300s[connection_ix], ax=ax[0], color='C0')\n",
    "ax[0].set_title('Predicted travel time distribution\\nto transfer site for Bus 1 (300S line, DQR)')\n",
    "ax[0].set_xlim(50, 450)\n",
    "ax[0].set_xlabel('Multi-link travel time (s)')\n",
    "sns.distplot(dist_200s[connection_ix], ax=ax[1], color='C1')\n",
    "ax[1].set_title('Predicted travel time distribution\\nto transfer site for Bus 2 (200S line, BRNN)')\n",
    "ax[1].set_xlim(50, 450)\n",
    "ax[1].set_xlabel('Multi-link travel time (s)')\n",
    "#sns.distplot(dqr_300s_samples[connection_ix] - brnn_200s_samples[connection_ix] - offset[connection_ix], ax=ax[2], color='C2')\n",
    "sns.distplot(dist_300s[connection_ix] - dist_200s[connection_ix], ax=ax[2], color='C2')\n",
    "ax[2].set_title('Joint distribution for difference\\nin arrival time to transfer site.')\n",
    "ax[2].set_xlabel('Multi-link travel time difference (s)')\n",
    "\n",
    "plt.savefig('dqr-connection-assurance-ex.pdf', bbox_inches='tight')\n",
    "plt.savefig('dqr-connection-assurance-ex.png', bbox_inches='tight', dpi=300)"
   ]
  },
  {
   "cell_type": "code",
   "execution_count": 168,
   "metadata": {},
   "outputs": [],
   "source": [
    "connection_data['PredictedArrivalTimeWithHolding_200S'] = connection_data['DepartureTime_300S'] + pd.to_timedelta(connection_data['MultiLinkTravelTime_200S'] + np.quantile(dist_300s - dist_200s, .20, axis=1), unit='s')"
   ]
  },
  {
   "cell_type": "code",
   "execution_count": 169,
   "metadata": {},
   "outputs": [],
   "source": [
    "connection_data['ConnectionDelayWithHolding_200S'] = (connection_data['ArrivalTime_300S'] - connection_data['PredictedArrivalTimeWithHolding_200S']) / pd.to_timedelta('1s')"
   ]
  },
  {
   "cell_type": "code",
   "execution_count": 170,
   "metadata": {},
   "outputs": [],
   "source": [
    "#transfer_time = 60 # pd.to_timedelta('1min') / \n",
    "#connection_data.loc[lambda x: (connection_data['ConnectionDelayWithHolding_200S'] > -transfer_time) | (transfer_time < connection_data['ConnectionDelayWithHolding_200S']), 'Connection State'] = 'Broken'\n",
    "#connection_data.loc[lambda x: (connection_data['ConnectionDelayWithHolding_200S'] < -transfer_time) | (transfer_time > connection_data['ConnectionDelayWithHolding_200S']), 'Connection State'] = 'Kept'"
   ]
  },
  {
   "cell_type": "code",
   "execution_count": 171,
   "metadata": {},
   "outputs": [
    {
     "data": {
      "text/plain": [
       "Broken    249\n",
       "Kept      190\n",
       "Name: Connection State, dtype: int64"
      ]
     },
     "execution_count": 171,
     "metadata": {},
     "output_type": "execute_result"
    }
   ],
   "source": [
    "connection_data['Connection State'].value_counts()"
   ]
  },
  {
   "cell_type": "code",
   "execution_count": 172,
   "metadata": {},
   "outputs": [
    {
     "data": {
      "text/plain": [
       "Connection State\n",
       "Broken    44.947998\n",
       "Kept      14.518868\n",
       "Name: ConnectionDelayWithHolding_200S, dtype: float64"
      ]
     },
     "execution_count": 172,
     "metadata": {},
     "output_type": "execute_result"
    }
   ],
   "source": [
    "connection_data.groupby('Connection State')['ConnectionDelayWithHolding_200S'].mean()"
   ]
  },
  {
   "cell_type": "code",
   "execution_count": 173,
   "metadata": {},
   "outputs": [
    {
     "data": {
      "text/plain": [
       "31.778215557596805"
      ]
     },
     "execution_count": 173,
     "metadata": {},
     "output_type": "execute_result"
    }
   ],
   "source": [
    "connection_data['ConnectionDelayWithHolding_200S'].mean()"
   ]
  },
  {
   "cell_type": "code",
   "execution_count": 174,
   "metadata": {},
   "outputs": [
    {
     "data": {
      "image/png": "[encoded data removed]",
      "text/plain": [
       "<Figure size 576x288 with 1 Axes>"
      ]
     },
     "metadata": {
      "needs_background": "light"
     },
     "output_type": "display_data"
    }
   ],
   "source": [
    "fig, ax = plt.subplots(figsize=(8, 4), ncols=1)\n",
    "sns.histplot(connection_data, x='ConnectionDelayWithHolding_200S', hue='Connection State', stat='density', kde=True, binwidth=5, color='C0', multiple='layer', shrink=1)\n",
    "ax.set_xlabel('Additional delay for 200S at transfer site with uncertainty aware holding strategy.')\n",
    "ax.axvline(connection_data['ConnectionDelayWithHolding_200S'].mean(), color='k')\n",
    "plt.savefig('additional-delay-200S-with-holding.pdf', bbox_inches='tight')"
   ]
  },
  {
   "cell_type": "code",
   "execution_count": null,
   "metadata": {},
   "outputs": [],
   "source": []
  },
  {
   "cell_type": "code",
   "execution_count": null,
   "metadata": {},
   "outputs": [],
   "source": []
  }
 ],
 "metadata": {
  "kernelspec": {
   "display_name": "Python 3",
   "language": "python",
   "name": "python3"
  },
  "language_info": {
   "codemirror_mode": {
    "name": "ipython",
    "version": 3
   },
   "file_extension": ".py",
   "mimetype": "text/x-python",
   "name": "python",
   "nbconvert_exporter": "python",
   "pygments_lexer": "ipython3",
   "version": "3.6.6"
  }
 },
 "nbformat": 4,
 "nbformat_minor": 2
}
