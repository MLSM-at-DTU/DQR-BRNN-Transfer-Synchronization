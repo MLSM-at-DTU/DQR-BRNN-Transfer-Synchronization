{
 "cells": [
  {
   "cell_type": "code",
   "execution_count": 1,
   "metadata": {},
   "outputs": [],
   "source": [
    "import numpy as np\n",
    "import pandas as pd\n",
    "\n",
    "from datetime import datetime, timedelta\n",
    "\n",
    "import matplotlib.pyplot as plt\n",
    "import seaborn as sns\n",
    "\n",
    "import dateutil"
   ]
  },
  {
   "cell_type": "markdown",
   "metadata": {},
   "source": [
    "## Load and preprocess data"
   ]
  },
  {
   "cell_type": "code",
   "execution_count": 2,
   "metadata": {},
   "outputs": [],
   "source": [
    "t_test = dateutil.parser.isoparse('2020-11-16')\n",
    "data_300s = pd.read_csv('Data/300S.csv.gz', compression='gzip', parse_dates=['Time'])[lambda x: x['Time'] >= t_test]\n",
    "data_200s = pd.read_csv('Data/200S.csv.gz', compression='gzip', parse_dates=['Time'])[lambda x: x['Time'] >= t_test]"
   ]
  },
  {
   "cell_type": "code",
   "execution_count": 3,
   "metadata": {},
   "outputs": [],
   "source": [
    "lns_300s = ['6:8','8:9', '9:11']\n",
    "connection_data_300s = pd.DataFrame({\n",
    "    'DepartureTime': data_300s.groupby(['JourneyRef', 'LinkRef'])['Time'].first().unstack(1)[lns_300s[0]],    \n",
    "    'ArrivalTime': (data_300s.groupby(['JourneyRef', 'LinkRef'])['Time'].first().unstack(1)[lns_300s[-1]] + pd.to_timedelta(data_300s.groupby(['JourneyRef', 'LinkRef'])['LinkTravelTime'].first().unstack(1)[lns_300s[-1]].dropna(), unit='s')),\n",
    "    'MultiLinkTravelTime': data_300s.groupby(['JourneyRef', 'LinkRef'])['LinkTravelTime'].first().unstack(1)[lns_300s].dropna().sum(axis=1),\n",
    "    'PreConnectionDelay': data_300s.groupby(['JourneyRef', 'LinkRef'])['LinkEnterDelay'].first().unstack(1)[lns_300s[-1]],\n",
    "    'PostConnectionDelay': data_300s.groupby(['JourneyRef', 'LinkRef'])['LinkEnterDelay'].first().unstack(1)['11:12'],\n",
    "    'MatchTime': data_300s.groupby(['JourneyRef', 'LinkRef'])['Time'].first().unstack(1)['11:12'] - pd.to_timedelta(data_300s.groupby(['JourneyRef', 'LinkRef'])['LinkEnterDelay'].first().unstack(1)['11:12'], unit='s')\n",
    "}).dropna().reset_index().rename(columns={'index': 'JourneyRef'}).set_index('MatchTime', drop=False).sort_index()\n",
    "connection_data_300s['ConnectionDelay'] = connection_data_300s['PostConnectionDelay'] - connection_data_300s['PreConnectionDelay']"
   ]
  },
  {
   "cell_type": "code",
   "execution_count": 4,
   "metadata": {},
   "outputs": [],
   "source": [
    "lns_200s = ['52396:11']\n",
    "connection_data_200s = pd.DataFrame({\n",
    "    'DepartureTime': data_200s.groupby(['JourneyRef', 'LinkRef'])['Time'].first().unstack(1)[lns_200s[0]],    \n",
    "    'ArrivalTime': (data_200s.groupby(['JourneyRef', 'LinkRef'])['Time'].first().unstack(1)[lns_200s[-1]] + pd.to_timedelta(data_200s.groupby(['JourneyRef', 'LinkRef'])['LinkTravelTime'].first().unstack(1)[lns_200s[-1]].dropna(), unit='s')),\n",
    "    'MultiLinkTravelTime': data_200s.groupby(['JourneyRef', 'LinkRef'])['LinkTravelTime'].first().unstack(1)[lns_200s].dropna().sum(axis=1),\n",
    "    'PreConnectionDelay': data_200s.groupby(['JourneyRef', 'LinkRef'])['LinkEnterDelay'].first().unstack(1)[lns_200s[-1]],\n",
    "    'PostConnectionDelay': data_200s.groupby(['JourneyRef', 'LinkRef'])['LinkEnterDelay'].first().unstack(1)['11:12'],\n",
    "    'MatchTime': data_200s.groupby(['JourneyRef', 'LinkRef'])['Time'].first().unstack(1)['11:12'] - pd.to_timedelta(data_200s.groupby(['JourneyRef', 'LinkRef'])['LinkEnterDelay'].first().unstack(1)['11:12'], unit='s')\n",
    "}).dropna().reset_index().rename(columns={'index': 'JourneyRef'}).set_index('MatchTime', drop=False).sort_index()\n",
    "connection_data_200s['ConnectionDelay'] = connection_data_200s['PostConnectionDelay'] - connection_data_200s['PreConnectionDelay']"
   ]
  },
  {
   "cell_type": "code",
   "execution_count": 5,
   "metadata": {},
   "outputs": [
    {
     "data": {
      "text/plain": [
       "76.05913570887036"
      ]
     },
     "execution_count": 5,
     "metadata": {},
     "output_type": "execute_result"
    }
   ],
   "source": [
    "(connection_data_300s['PostConnectionDelay'] - connection_data_300s['PreConnectionDelay']).mean()"
   ]
  },
  {
   "cell_type": "code",
   "execution_count": 6,
   "metadata": {},
   "outputs": [
    {
     "data": {
      "text/plain": [
       "57.36015325670498"
      ]
     },
     "execution_count": 6,
     "metadata": {},
     "output_type": "execute_result"
    }
   ],
   "source": [
    "(connection_data_200s['PostConnectionDelay'] - connection_data_200s['PreConnectionDelay']).mean()"
   ]
  },
  {
   "cell_type": "markdown",
   "metadata": {},
   "source": [
    "### Match scheduled connections"
   ]
  },
  {
   "cell_type": "code",
   "execution_count": 7,
   "metadata": {},
   "outputs": [
    {
     "data": {
      "text/html": [
       "<div>\n",
       "<style scoped>\n",
       "    .dataframe tbody tr th:only-of-type {\n",
       "        vertical-align: middle;\n",
       "    }\n",
       "\n",
       "    .dataframe tbody tr th {\n",
       "        vertical-align: top;\n",
       "    }\n",
       "\n",
       "    .dataframe thead th {\n",
       "        text-align: right;\n",
       "    }\n",
       "</style>\n",
       "<table border=\"1\" class=\"dataframe\">\n",
       "  <thead>\n",
       "    <tr style=\"text-align: right;\">\n",
       "      <th></th>\n",
       "      <th>MatchTime_300S</th>\n",
       "      <th>MatchTime_200S</th>\n",
       "      <th>ArrivalTime_200S</th>\n",
       "      <th>ArrivalTime_300S</th>\n",
       "      <th>ConnectionDelay_200S</th>\n",
       "    </tr>\n",
       "    <tr>\n",
       "      <th>MatchTime</th>\n",
       "      <th></th>\n",
       "      <th></th>\n",
       "      <th></th>\n",
       "      <th></th>\n",
       "      <th></th>\n",
       "    </tr>\n",
       "  </thead>\n",
       "  <tbody>\n",
       "    <tr>\n",
       "      <th>2020-11-16 06:17:00</th>\n",
       "      <td>2020-11-16 06:14:00</td>\n",
       "      <td>2020-11-16 06:17:00</td>\n",
       "      <td>2020-11-16 06:18:20</td>\n",
       "      <td>2020-11-16 06:16:13</td>\n",
       "      <td>82.0</td>\n",
       "    </tr>\n",
       "    <tr>\n",
       "      <th>2020-11-16 06:37:00</th>\n",
       "      <td>2020-11-16 06:37:00</td>\n",
       "      <td>2020-11-16 06:37:00</td>\n",
       "      <td>2020-11-16 06:36:51</td>\n",
       "      <td>2020-11-16 06:39:20</td>\n",
       "      <td>-12.0</td>\n",
       "    </tr>\n",
       "    <tr>\n",
       "      <th>2020-11-16 06:58:00</th>\n",
       "      <td>2020-11-16 06:58:00</td>\n",
       "      <td>2020-11-16 06:58:00</td>\n",
       "      <td>2020-11-16 06:58:17</td>\n",
       "      <td>2020-11-16 07:01:41</td>\n",
       "      <td>29.0</td>\n",
       "    </tr>\n",
       "    <tr>\n",
       "      <th>2020-11-16 07:10:00</th>\n",
       "      <td>2020-11-16 07:09:00</td>\n",
       "      <td>2020-11-16 07:10:00</td>\n",
       "      <td>2020-11-16 07:10:16</td>\n",
       "      <td>2020-11-16 07:16:09</td>\n",
       "      <td>30.0</td>\n",
       "    </tr>\n",
       "  </tbody>\n",
       "</table>\n",
       "</div>"
      ],
      "text/plain": [
       "                         MatchTime_300S      MatchTime_200S  \\\n",
       "MatchTime                                                     \n",
       "2020-11-16 06:17:00 2020-11-16 06:14:00 2020-11-16 06:17:00   \n",
       "2020-11-16 06:37:00 2020-11-16 06:37:00 2020-11-16 06:37:00   \n",
       "2020-11-16 06:58:00 2020-11-16 06:58:00 2020-11-16 06:58:00   \n",
       "2020-11-16 07:10:00 2020-11-16 07:09:00 2020-11-16 07:10:00   \n",
       "\n",
       "                       ArrivalTime_200S    ArrivalTime_300S  \\\n",
       "MatchTime                                                     \n",
       "2020-11-16 06:17:00 2020-11-16 06:18:20 2020-11-16 06:16:13   \n",
       "2020-11-16 06:37:00 2020-11-16 06:36:51 2020-11-16 06:39:20   \n",
       "2020-11-16 06:58:00 2020-11-16 06:58:17 2020-11-16 07:01:41   \n",
       "2020-11-16 07:10:00 2020-11-16 07:10:16 2020-11-16 07:16:09   \n",
       "\n",
       "                     ConnectionDelay_200S  \n",
       "MatchTime                                  \n",
       "2020-11-16 06:17:00                  82.0  \n",
       "2020-11-16 06:37:00                 -12.0  \n",
       "2020-11-16 06:58:00                  29.0  \n",
       "2020-11-16 07:10:00                  30.0  "
      ]
     },
     "execution_count": 7,
     "metadata": {},
     "output_type": "execute_result"
    }
   ],
   "source": [
    "t_tol = pd.to_timedelta('5min')\n",
    "connection_data = pd.merge_asof(connection_data_200s, connection_data_300s, left_index=True, right_index=True, suffixes=('_200S', '_300S'), tolerance=t_tol).dropna()\n",
    "connection_data[['MatchTime_300S', 'MatchTime_200S', 'ArrivalTime_200S', 'ArrivalTime_300S', 'ConnectionDelay_200S']].head(4)"
   ]
  },
  {
   "cell_type": "code",
   "execution_count": 8,
   "metadata": {},
   "outputs": [],
   "source": [
    "transfer_time = pd.to_timedelta('1min')\n",
    "connection_data.loc[lambda x: x['ArrivalTime_200S'] + pd.to_timedelta(x['ConnectionDelay_200S'], unit='s') < x['ArrivalTime_300S'] + transfer_time, 'Connection State'] = 'Broken'"
   ]
  },
  {
   "cell_type": "code",
   "execution_count": 9,
   "metadata": {},
   "outputs": [],
   "source": [
    "connection_data.loc[lambda x: x['ArrivalTime_200S'] + pd.to_timedelta(x['ConnectionDelay_200S'], unit='s') > x['ArrivalTime_300S'] + transfer_time, 'Connection State'] = 'Kept'"
   ]
  },
  {
   "cell_type": "code",
   "execution_count": 10,
   "metadata": {},
   "outputs": [
    {
     "data": {
      "text/plain": [
       "Broken    253\n",
       "Kept      193\n",
       "Name: Connection State, dtype: int64"
      ]
     },
     "execution_count": 10,
     "metadata": {},
     "output_type": "execute_result"
    }
   ],
   "source": [
    "connection_data['Connection State'].value_counts()"
   ]
  },
  {
   "cell_type": "code",
   "execution_count": 13,
   "metadata": {},
   "outputs": [
    {
     "data": {
      "text/plain": [
       "Connection State\n",
       "Broken    45.671937\n",
       "Kept      75.538860\n",
       "Name: ConnectionDelay_200S, dtype: float64"
      ]
     },
     "execution_count": 13,
     "metadata": {},
     "output_type": "execute_result"
    }
   ],
   "source": [
    "connection_data.groupby('Connection State')['ConnectionDelay_200S'].mean()"
   ]
  },
  {
   "cell_type": "code",
   "execution_count": 11,
   "metadata": {},
   "outputs": [
    {
     "data": {
      "image/png": "[encoded data removed]",
      "text/plain": [
       "<Figure size 576x288 with 1 Axes>"
      ]
     },
     "metadata": {
      "needs_background": "light"
     },
     "output_type": "display_data"
    }
   ],
   "source": [
    "fig, ax = plt.subplots(figsize=(8, 4), ncols=1)\n",
    "sns.histplot(connection_data, x='ConnectionDelay_200S', hue='Connection State', stat='density', kde=True, binwidth=5, color='C0', multiple='layer', shrink=1)\n",
    "ax.set_xlabel('Additional delay for 200S at transfer site.')\n",
    "ax.axvline(connection_data.groupby('Connection State')['ConnectionDelay_200S'].mean()['Kept'])\n",
    "ax.axvline(connection_data.groupby('Connection State')['ConnectionDelay_200S'].mean()['Broken'], color='C1')\n",
    "plt.savefig('additional-delay-200S.pdf', bbox_inches='tight')"
   ]
  },
  {
   "cell_type": "code",
   "execution_count": 12,
   "metadata": {},
   "outputs": [],
   "source": [
    "connection_data.to_csv('Data/300S_200S_Connections.csv.gz')"
   ]
  },
  {
   "cell_type": "code",
   "execution_count": null,
   "metadata": {},
   "outputs": [],
   "source": []
  }
 ],
 "metadata": {
  "kernelspec": {
   "display_name": "Python 3",
   "language": "python",
   "name": "python3"
  },
  "language_info": {
   "codemirror_mode": {
    "name": "ipython",
    "version": 3
   },
   "file_extension": ".py",
   "mimetype": "text/x-python",
   "name": "python",
   "nbconvert_exporter": "python",
   "pygments_lexer": "ipython3",
   "version": "3.6.6"
  }
 },
 "nbformat": 4,
 "nbformat_minor": 4
}
